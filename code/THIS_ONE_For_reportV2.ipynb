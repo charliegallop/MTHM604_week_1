{
 "cells": [
  {
   "cell_type": "code",
   "execution_count": null,
   "id": "8dac77d8",
   "metadata": {
    "colab": {
     "base_uri": "https://localhost:8080/"
    },
    "id": "8dac77d8",
    "outputId": "28de7301-1b7a-42a8-b0d6-e12553f695da"
   },
   "outputs": [],
   "source": [
    "import pandas as pd\n",
    "import numpy as np\n",
    "import matplotlib.pyplot as plt\n",
    "%matplotlib inline\n",
    "import os\n",
    "from statsmodels.graphics.tsaplots import plot_acf\n",
    "\n",
    "print(os.getcwd())"
   ]
  },
  {
   "cell_type": "markdown",
   "id": "db7e4ff1",
   "metadata": {
    "id": "db7e4ff1"
   },
   "source": [
    "### Import data"
   ]
  },
  {
   "cell_type": "code",
   "execution_count": null,
   "id": "4f7f081d",
   "metadata": {
    "id": "4f7f081d"
   },
   "outputs": [],
   "source": [
    "dataDir = \"../data\"\n",
    "df = pd.read_csv(\"/content/ts_0011_sid6322070.csv\")\n",
    "                 #Weekend trends #ts_0109_sid6322115.csv\")\n",
    "                 #weekday trend #ts_0118_sid6322122.csv\")\n",
    "                 \n",
    "                 #ts_0007_sid6321576.csv\")\n",
    "                 \n",
    "                 #ts_0111_sid6322117.csv\")\n"
   ]
  },
  {
   "cell_type": "code",
   "execution_count": null,
   "id": "0bf02128",
   "metadata": {
    "colab": {
     "base_uri": "https://localhost:8080/",
     "height": 206
    },
    "id": "0bf02128",
    "outputId": "92f0ce25-557f-4d0d-d81b-b9c9cf9e745d"
   },
   "outputs": [],
   "source": [
    "df2 = df.drop(columns = [\"Unnamed: 0\", \"sid\", \"uprns\", \"sensType\"])\n",
    "df2['datetime'] = pd.to_datetime(df['datetime'])\n",
    "df2.head()"
   ]
  },
  {
   "cell_type": "code",
   "execution_count": null,
   "id": "d1d8605c",
   "metadata": {
    "id": "d1d8605c"
   },
   "outputs": [],
   "source": [
    "# Add day and month name\n",
    "df2['dayname'] = df2['datetime'].apply(lambda x: x.dayofweek)\n",
    "df2['month'] = df2['datetime'].apply(lambda x: x.month)\n",
    "df2['dayofyear'] = df2['datetime'].apply(lambda x: x.dayofyear)\n"
   ]
  },
  {
   "cell_type": "code",
   "execution_count": null,
   "id": "6432d686",
   "metadata": {
    "colab": {
     "base_uri": "https://localhost:8080/"
    },
    "id": "6432d686",
    "outputId": "4ed1369d-5215-43c0-a7ee-d75f4e343f77"
   },
   "outputs": [],
   "source": [
    "df.isnull().values.any()"
   ]
  },
  {
   "cell_type": "code",
   "execution_count": null,
   "id": "c467421f",
   "metadata": {
    "id": "c467421f"
   },
   "outputs": [],
   "source": [
    "# Calulate overall mean\n",
    "y_mean = df2['PM2_5'].mean()\n",
    "df2['y_norm'] = df2['PM2_5']-y_mean\n"
   ]
  },
  {
   "cell_type": "code",
   "execution_count": null,
   "id": "7b21ea1c",
   "metadata": {
    "colab": {
     "base_uri": "https://localhost:8080/",
     "height": 303
    },
    "id": "7b21ea1c",
    "outputId": "67bad832-aea0-4e6f-d272-85405da67cdc"
   },
   "outputs": [],
   "source": [
    "# Plot weekday trend\n",
    "days_dict = {\n",
    "    0: \"Monday\",\n",
    "    1: \"Tuesday\",\n",
    "    2: \"Wednesday\",\n",
    "    3: \"Thursday\",\n",
    "    4: \"Friday\",\n",
    "    5: \"Saturday\",\n",
    "    6: \"Sunday\"\n",
    "            }\n",
    "df_day = df2.groupby(\"dayname\", as_index = False).mean()\n",
    "df_day = df_day.sort_values(by = ['dayname'], axis = 0, ascending = True)\n",
    "df_day['dayname2'] = df_day['dayname'].apply(lambda x: days_dict[x])\n",
    "plt.plot(df_day['dayname2'],df_day['y_norm'], color = 'dodgerblue')\n",
    "plt.tick_params(axis='x', labelrotation = -45)"
   ]
  },
  {
   "cell_type": "code",
   "execution_count": null,
   "id": "43d279f7",
   "metadata": {
    "colab": {
     "base_uri": "https://localhost:8080/",
     "height": 282
    },
    "id": "43d279f7",
    "outputId": "781e46af-5d14-4577-c536-b72291902dda"
   },
   "outputs": [],
   "source": [
    "month_dict = {\n",
    "    1:\"January\",\n",
    "    2:\"February\",\n",
    "    3:\"March\",\n",
    "    4:\"April\",\n",
    "    5:\"May\",\n",
    "    6:\"June\",\n",
    "    7:\"July\",\n",
    "    8:\"August\",\n",
    "    9:\"September\",\n",
    "    10:\"October\",\n",
    "    11:\"November\",\n",
    "    12:\"December\"\n",
    "}\n",
    "\n",
    "#Plot monthly trend\n",
    "df_month = df2.groupby(\"month\", as_index = False).mean()\n",
    "df_month = df_month.sort_values(['month'],axis = 0, ascending = True)\n",
    "df_month['month2'] = df_month['month'].apply(lambda x: month_dict[x])\n",
    "plt.plot(df_month['month2'],df_month['y_norm'])\n"
   ]
  },
  {
   "cell_type": "code",
   "execution_count": null,
   "id": "58ebbd29",
   "metadata": {
    "colab": {
     "base_uri": "https://localhost:8080/",
     "height": 634
    },
    "id": "58ebbd29",
    "outputId": "5fa78c65-3677-4a20-bfbd-e178b4f3021a"
   },
   "outputs": [],
   "source": [
    "#Plot monthly trend\n",
    "df3 = df2.groupby(\"dayofyear\").mean()\n",
    "df3 = df3.sort_index(axis = 0, ascending = True)\n",
    "plt.scatter(df3.index,df3['y_norm'])\n",
    "import seaborn as sns\n",
    "sns.relplot(\n",
    "    data=df3, x=\"dayofyear\", y=\"y_norm\", kind=\"line\"\n",
    ")"
   ]
  },
  {
   "cell_type": "code",
   "execution_count": null,
   "id": "a95ddeed",
   "metadata": {
    "colab": {
     "base_uri": "https://localhost:8080/",
     "height": 359
    },
    "id": "a95ddeed",
    "outputId": "0bba6238-b1d1-4d63-b073-24a89ef122bd"
   },
   "outputs": [],
   "source": [
    "from statsmodels.tsa.seasonal import seasonal_decompose\n",
    "df_trends = df2[['datetime', 'PM2_5']].set_index('datetime')\n",
    "res = seasonal_decompose(df_trends, model = \"additive\",periods = 36000)\n",
    "\n",
    "fig, (ax1,ax2,ax3) = plt.subplots(3,1, figsize=(15,8))\n",
    "res.trend.plot(ax=ax1,ylabel = \"trend\")\n",
    "res.resid.plot(ax=ax2,ylabel = \"seasoanlity\")\n",
    "res.seasonal.plot(ax=ax3,ylabel = \"residual\")\n",
    "plt.show()"
   ]
  },
  {
   "cell_type": "markdown",
   "id": "db206a7b",
   "metadata": {
    "id": "db206a7b"
   },
   "source": [
    "## Auto correlation and Partial corrlation plots"
   ]
  },
  {
   "cell_type": "code",
   "execution_count": null,
   "id": "aff8bf72",
   "metadata": {
    "colab": {
     "base_uri": "https://localhost:8080/",
     "height": 499
    },
    "id": "aff8bf72",
    "outputId": "a6eb7f1e-5d65-4559-8b1a-ef93c7de6535"
   },
   "outputs": [],
   "source": [
    "import statsmodels.api as sm\n",
    "import matplotlib.pyplot as plt\n",
    "fig = plt.figure(figsize=(12,8))\n",
    "ax1 = fig.add_subplot(211)\n",
    "fig = sm.graphics.tsa.plot_acf(df2['PM2_5'], lags=50, ax=ax1)\n",
    "ax2 = fig.add_subplot(212)\n",
    "fig = sm.graphics.tsa.plot_pacf(df2['PM2_5'], lags=50, ax=ax2)\n",
    "plt.show()"
   ]
  },
  {
   "cell_type": "code",
   "execution_count": null,
   "id": "8a61fb58",
   "metadata": {
    "colab": {
     "base_uri": "https://localhost:8080/",
     "height": 168
    },
    "id": "8a61fb58",
    "outputId": "19607ed2-12a9-435a-ac2e-2c6992549603"
   },
   "outputs": [],
   "source": [
    "plot_acf(res.seasonal)"
   ]
  },
  {
   "cell_type": "code",
   "execution_count": null,
   "id": "bcb6a8a2",
   "metadata": {
    "id": "bcb6a8a2"
   },
   "outputs": [],
   "source": [
    "df_resampled = df_trends.resample('H').mean()\n",
    "df_resampled = df_resampled.fillna(0)"
   ]
  },
  {
   "cell_type": "code",
   "execution_count": null,
   "id": "569256d2",
   "metadata": {
    "colab": {
     "base_uri": "https://localhost:8080/",
     "height": 499
    },
    "id": "569256d2",
    "outputId": "d2b77d28-33f8-434d-865e-0108fff156ac"
   },
   "outputs": [],
   "source": [
    "import statsmodels.api as sm\n",
    "import matplotlib.pyplot as plt\n",
    "fig = plt.figure(figsize=(12,8))\n",
    "ax1 = fig.add_subplot(211)\n",
    "fig = sm.graphics.tsa.plot_acf(df_resampled['PM2_5'], lags=50, ax=ax1)\n",
    "ax2 = fig.add_subplot(212)\n",
    "fig = sm.graphics.tsa.plot_pacf(df_resampled['PM2_5'], lags=50, ax=ax2)\n",
    "plt.show()"
   ]
  },
  {
   "cell_type": "code",
   "execution_count": null,
   "id": "bc5a9a76",
   "metadata": {
    "colab": {
     "base_uri": "https://localhost:8080/",
     "height": 237
    },
    "id": "bc5a9a76",
    "outputId": "b9447491-052a-4f21-c2d8-c41497d80435"
   },
   "outputs": [],
   "source": [
    "from statsmodels.tsa.seasonal import seasonal_decompose\n",
    "res = seasonal_decompose(df_resampled, model = \"additive\",period = 360)\n",
    "\n",
    "fig, (ax1,ax2,ax3) = plt.subplots(3,1, figsize=(15,8))\n",
    "res.trend.plot(ax=ax1,ylabel = \"trend\")\n",
    "res.resid.plot(ax=ax2,ylabel = \"seasoanlity\")\n",
    "res.seasonal.plot(ax=ax3,ylabel = \"residual\")\n",
    "plt.show()#"
   ]
  },
  {
   "cell_type": "code",
   "execution_count": null,
   "id": "546af6ef",
   "metadata": {
    "colab": {
     "base_uri": "https://localhost:8080/",
     "height": 368
    },
    "id": "546af6ef",
    "outputId": "d05bcc77-bb70-4d19-b10c-cb7594e0ae0e"
   },
   "outputs": [],
   "source": [
    "import altair as alt\n",
    "\n",
    "df_alt = df_resampled.reset_index()\n",
    "df_alt = df_alt.rename(columns = {'datetime':'ds',\n",
    "                                 'PM2_5':'y'})\n",
    "alt.data_transformers.enable('default', max_rows=None)\n",
    "alt.Chart(df_alt).mark_line().encode(\n",
    "    alt.X('ds:T'),\n",
    "    alt.Y('y:Q',\n",
    "         scale = alt.Scale(domain = (-50, 300)))\n",
    ")"
   ]
  },
  {
   "cell_type": "markdown",
   "id": "83a4adc3",
   "metadata": {
    "id": "83a4adc3"
   },
   "source": [
    "## Import weather data"
   ]
  },
  {
   "cell_type": "code",
   "execution_count": null,
   "id": "8f0a4ee6",
   "metadata": {
    "colab": {
     "base_uri": "https://localhost:8080/",
     "height": 348
    },
    "id": "8f0a4ee6",
    "outputId": "f67f52ce-cc24-4ad2-a18f-0132afb5ebbe"
   },
   "outputs": [],
   "source": [
    "weather_2018 = pd.read_csv(\"../data/rawData/2018_hourly_weather.csv\")\n",
    "weather_2019 = pd.read_csv(\"../data/rawData/2019_hourly_weather.csv\")\n",
    "weather_2020 = pd.read_csv(\"../data/rawData/2020_hourly_weather.csv\")"
   ]
  },
  {
   "cell_type": "code",
   "execution_count": null,
   "id": "a5f70c78",
   "metadata": {
    "id": "a5f70c78"
   },
   "outputs": [],
   "source": [
    "df_weather = weather_2018.append(weather_2019, ignore_index = True)"
   ]
  },
  {
   "cell_type": "code",
   "execution_count": null,
   "id": "4209f079",
   "metadata": {
    "id": "4209f079"
   },
   "outputs": [],
   "source": [
    "df_weather = df_weather.append(weather_2020, ignore_index = True)"
   ]
  },
  {
   "cell_type": "code",
   "execution_count": null,
   "id": "4881d4bb",
   "metadata": {
    "id": "4881d4bb"
   },
   "outputs": [],
   "source": [
    "df_weather['ds'] = pd.to_datetime(df_weather['ds'])"
   ]
  },
  {
   "cell_type": "markdown",
   "id": "3e6620f2",
   "metadata": {
    "id": "3e6620f2"
   },
   "source": [
    "### Join weather data to air quality data"
   ]
  },
  {
   "cell_type": "code",
   "execution_count": null,
   "id": "6e54f61e",
   "metadata": {
    "id": "6e54f61e"
   },
   "outputs": [],
   "source": [
    "df_joined = df_alt.merge(df_weather, how = 'inner', on = 'ds')"
   ]
  },
  {
   "cell_type": "code",
   "execution_count": null,
   "id": "b847ae04",
   "metadata": {
    "id": "b847ae04"
   },
   "outputs": [],
   "source": [
    "df_joined = df_joined[~df_joined['air_temperature'].isnull()]"
   ]
  },
  {
   "cell_type": "code",
   "execution_count": null,
   "id": "b5HCIxj-zxdi",
   "metadata": {
    "colab": {
     "base_uri": "https://localhost:8080/",
     "height": 168
    },
    "id": "b5HCIxj-zxdi",
    "outputId": "3033ff7c-daec-42aa-cad4-33c1b7f023e2"
   },
   "outputs": [],
   "source": [
    "df_joined = pd.read_csv(\"/content/df_analysis.csv\")"
   ]
  },
  {
   "cell_type": "markdown",
   "id": "96b97cd4",
   "metadata": {
    "id": "96b97cd4"
   },
   "source": [
    "## Plotting Air Temp and PM2_5"
   ]
  },
  {
   "cell_type": "code",
   "execution_count": null,
   "id": "95093875",
   "metadata": {
    "colab": {
     "base_uri": "https://localhost:8080/",
     "height": 237
    },
    "id": "95093875",
    "outputId": "63a1bd3e-f86d-4384-9e53-597185471d68"
   },
   "outputs": [],
   "source": [
    "from statsmodels.tsa.seasonal import seasonal_decompose\n",
    "res_pm2_5 = seasonal_decompose(df_joined[['ds','y']].set_index('ds'), model = \"additive\",period = 360)\n",
    "res_air_temp = seasonal_decompose(df_joined[['ds','air_temperature']].set_index('ds'), model = \"additive\",period = 360)\n",
    "\n",
    "fig, ax = plt.subplots(figsize = (15, 8))\n",
    "\n",
    "line1, = ax.plot(res_pm2_5.trend,label = \"PM2_5\", color = 'salmon')\n",
    "ax.set_ylabel(\"PM2_5\")\n",
    "ax.tick_params(axis='y', colors='salmon')\n",
    "\n",
    "ax2 = ax.twinx()\n",
    "\n",
    "line2, = ax2.plot(res_air_temp.trend, label = \"Air Temperature (C)\", color = 'dodgerblue')\n",
    "ax2.set_ylabel(\"Air Temperature (C)\")\n",
    "ax2.tick_params(axis='y', colors='dodgerblue')\n",
    "ax2.spines['right'].set_color('dodgerblue')\n",
    "ax2.spines['left'].set_color('salmon')\n",
    "plt.legend(handles = [line1, line2])\n",
    "ax.tick_params(axis='x', labelrotation = -45)\n",
    "plt.rc('font', size = 15)\n",
    "\n",
    "plt.show()\n",
    "\n",
    "fig.savefig(\"plot.svg\", dpi = 500)"
   ]
  },
  {
   "cell_type": "markdown",
   "id": "78daca07",
   "metadata": {
    "id": "78daca07"
   },
   "source": [
    "## Testing for stationarity"
   ]
  },
  {
   "cell_type": "code",
   "execution_count": null,
   "id": "dc94cb8e",
   "metadata": {
    "id": "dc94cb8e",
    "outputId": "cec5d228-9f40-4997-e1ab-c23775ecca57"
   },
   "outputs": [],
   "source": [
    "from statsmodels.tsa.stattools import adfuller\n",
    "adfuller_test = adfuller(df_joined['y'], autolag= \"AIC\")\n",
    "print(\"ADF test statistic: {}\".format(adfuller_test[0]))\n",
    "print(\"p-value: {}\".format(adfuller_test[1]))"
   ]
  },
  {
   "cell_type": "code",
   "execution_count": null,
   "id": "3f476917",
   "metadata": {
    "id": "3f476917",
    "outputId": "8442410f-ef88-4808-bd78-8b7cb2cf2022"
   },
   "outputs": [],
   "source": [
    "from statsmodels.tsa.stattools import adfuller\n",
    "adfuller_test = adfuller(df_joined['air_temperature'], autolag= \"AIC\")\n",
    "print(\"ADF test statistic: {}\".format(adfuller_test[0]))\n",
    "print(\"p-value: {}\".format(adfuller_test[1]))"
   ]
  },
  {
   "cell_type": "markdown",
   "id": "d547232a",
   "metadata": {
    "id": "d547232a"
   },
   "source": [
    "p values suggest both variables are satationary so do not need to difference"
   ]
  },
  {
   "cell_type": "markdown",
   "id": "a0b65809",
   "metadata": {
    "id": "a0b65809"
   },
   "source": [
    "## Getting best VAR model\n",
    "https://towardsdatascience.com/multivariate-time-series-forecasting-456ace675971"
   ]
  },
  {
   "cell_type": "code",
   "execution_count": null,
   "id": "147fd6ce",
   "metadata": {
    "id": "147fd6ce"
   },
   "outputs": [],
   "source": [
    "import pandas as pd\n",
    "import statsmodels.api as sm\n",
    "from statsmodels.tsa.api import VAR\n",
    "\n",
    "df_var = df_joined.copy()\n",
    "df_var.index = pd.DatetimeIndex(df_var.ds).to_period('H')\n",
    "df_var = df_var.drop('ds', axis = 1)"
   ]
  },
  {
   "cell_type": "code",
   "execution_count": null,
   "id": "b5e22ce4",
   "metadata": {
    "id": "b5e22ce4"
   },
   "outputs": [],
   "source": [
    "size = int(len(df_joined) * 0.8)\n",
    "train = df_var[['y', 'air_temperature']].iloc[:size, :]\n",
    "test = df_var[['y', 'air_temperature']].iloc[size:, :]           "
   ]
  },
  {
   "cell_type": "code",
   "execution_count": null,
   "id": "bb54f6f0",
   "metadata": {
    "id": "bb54f6f0"
   },
   "outputs": [],
   "source": [
    "forecasting_model = VAR(train)\n",
    "\n",
    "results_aic = []\n",
    "for p in range(1, 10):\n",
    "    results = forecasting_model.fit(p)\n",
    "    results_aic.append(results.aic)"
   ]
  },
  {
   "cell_type": "code",
   "execution_count": null,
   "id": "77a65290",
   "metadata": {
    "id": "77a65290",
    "outputId": "96b8d297-579b-47ac-936e-b680358dfa30"
   },
   "outputs": [],
   "source": [
    "import seaborn as sns\n",
    "sns.set()\n",
    "plt.plot(list(np.arange(1,500,1)), results_aic)\n",
    "plt.xlabel(\"Order\")\n",
    "plt.ylabel(\"AIC\")\n",
    "plt.show()"
   ]
  },
  {
   "cell_type": "code",
   "execution_count": null,
   "id": "ade5476a",
   "metadata": {
    "id": "ade5476a",
    "outputId": "b8a52d19-69f1-4286-973e-f52db350e7bd"
   },
   "outputs": [],
   "source": [
    "results_aic.index(min(results_aic))"
   ]
  },
  {
   "cell_type": "code",
   "execution_count": null,
   "id": "155a8dcb",
   "metadata": {
    "id": "155a8dcb",
    "outputId": "e3d1fecb-cdf1-4557-a3ca-6cf4ba96871e"
   },
   "outputs": [],
   "source": [
    "results = forecasting_model.fit(171)\n",
    "results.summary()"
   ]
  },
  {
   "cell_type": "code",
   "execution_count": null,
   "id": "11debd92",
   "metadata": {
    "id": "11debd92"
   },
   "outputs": [],
   "source": [
    "lagged_values = train.values[-171:]\n",
    "\n",
    "forecast = pd.DataFrame(results.forecast(y = lagged_values, steps = 4378),\n",
    "                       index = test.index, columns = ['y', 'air_temp'])"
   ]
  },
  {
   "cell_type": "code",
   "execution_count": null,
   "id": "58b23c6b",
   "metadata": {
    "id": "58b23c6b",
    "outputId": "9b527f32-b2e9-4578-e8b7-7f89c855555f"
   },
   "outputs": [],
   "source": [
    "forecast"
   ]
  },
  {
   "cell_type": "code",
   "execution_count": null,
   "id": "00aebb44",
   "metadata": {
    "id": "00aebb44"
   },
   "outputs": [],
   "source": []
  },
  {
   "cell_type": "markdown",
   "id": "ff4cbe8a",
   "metadata": {
    "id": "ff4cbe8a"
   },
   "source": [
    "## Time series forecasting\n",
    "https://medium.com/analytics-vidhya/time-series-forecasting-a-complete-guide-d963142da33f"
   ]
  },
  {
   "cell_type": "markdown",
   "id": "50f7884f",
   "metadata": {
    "id": "50f7884f"
   },
   "source": [
    "### Import libraries"
   ]
  },
  {
   "cell_type": "code",
   "execution_count": null,
   "id": "92684c0a",
   "metadata": {
    "id": "92684c0a"
   },
   "outputs": [],
   "source": [
    "import numpy as np\n",
    "import pandas as pd\n",
    "import matplotlib.pyplot as plt\n",
    "import seaborn as sns\n",
    "import warnings\n",
    "import math\n",
    "from scipy.stats import variation\n",
    "\n",
    "df_joined = pd.read_csv(\"/content/df_analysis.csv\")"
   ]
  },
  {
   "cell_type": "code",
   "execution_count": null,
   "id": "8eaf1e84",
   "metadata": {
    "id": "8eaf1e84"
   },
   "outputs": [],
   "source": [
    "%matplotlib inline\n",
    "warnings.filterwarnings('ignore')\n",
    "sns.set_style('darkgrid')"
   ]
  },
  {
   "cell_type": "code",
   "execution_count": null,
   "id": "aff93f7c",
   "metadata": {
    "id": "aff93f7c"
   },
   "outputs": [],
   "source": [
    "import sklearn\n",
    "from sklearn.metrics import mean_squared_error"
   ]
  },
  {
   "cell_type": "code",
   "execution_count": null,
   "id": "f72daa1b",
   "metadata": {
    "colab": {
     "base_uri": "https://localhost:8080/"
    },
    "id": "f72daa1b",
    "outputId": "bd978146-b2d7-4847-93a1-4872425ce35a"
   },
   "outputs": [],
   "source": [
    "df = df_joined\n",
    "df.shape"
   ]
  },
  {
   "cell_type": "code",
   "execution_count": null,
   "id": "018a9f2d",
   "metadata": {
    "colab": {
     "base_uri": "https://localhost:8080/"
    },
    "id": "018a9f2d",
    "outputId": "1d179eff-b55e-455b-8e16-aa506e05df7d"
   },
   "outputs": [],
   "source": [
    "df.info()"
   ]
  },
  {
   "cell_type": "code",
   "execution_count": null,
   "id": "2b996961",
   "metadata": {
    "colab": {
     "base_uri": "https://localhost:8080/",
     "height": 383
    },
    "id": "2b996961",
    "outputId": "b4bfcdbe-c229-4a68-bfcb-42d5af483556"
   },
   "outputs": [],
   "source": [
    "df_pm25 = df[['ds', 'y']].set_index('ds').asfreq('H')\n",
    "\n",
    "plt.figure(figsize=(18,7))\n",
    "plt.plot(df_pm25, label='PM2_5', color = 'dodgerblue')\n",
    "plt.legend(loc='best')\n",
    "plt.xticks(rotation = 90,fontweight=\"bold\")\n",
    "plt.show()"
   ]
  },
  {
   "cell_type": "code",
   "execution_count": null,
   "id": "5eac7803",
   "metadata": {
    "id": "5eac7803"
   },
   "outputs": [],
   "source": [
    "from pylab import rcParams\n",
    "import statsmodels.api as sm\n",
    "\n",
    "df_sd = df[['ds', 'y']].copy()\n",
    "df_sd['ds'] = pd.to_datetime(df_sd['ds'])\n",
    "df_sd = df_sd.set_index('ds')\n",
    "df_sd = df_sd.resample('H').mean()\n",
    "df_sd = df_sd.fillna(0)"
   ]
  },
  {
   "cell_type": "code",
   "execution_count": null,
   "id": "b7c34361",
   "metadata": {
    "colab": {
     "base_uri": "https://localhost:8080/",
     "height": 220
    },
    "id": "b7c34361",
    "outputId": "186ff55b-1284-47d1-ba17-7fc6077c413b"
   },
   "outputs": [],
   "source": [
    "rcParams['figure.figsize'] = 12, 8\n",
    "decomposition = sm.tsa.seasonal_decompose(df_sd, model='additive', period = 3600) # additive seasonal index\n",
    "fig = decomposition.plot()\n",
    "plt.show()"
   ]
  },
  {
   "cell_type": "markdown",
   "id": "838acbf3",
   "metadata": {
    "id": "838acbf3"
   },
   "source": [
    "## Building and avaluating time series models"
   ]
  },
  {
   "cell_type": "code",
   "execution_count": null,
   "id": "e15ff857",
   "metadata": {
    "id": "e15ff857"
   },
   "outputs": [],
   "source": [
    "train_len = int(len(df_sd)*0.8)\n",
    "train = df_sd[0 : train_len]\n",
    "test = df_sd[train_len : ]"
   ]
  },
  {
   "cell_type": "markdown",
   "id": "b30e6082",
   "metadata": {
    "id": "b30e6082"
   },
   "source": [
    "### Simple time series methods"
   ]
  },
  {
   "cell_type": "markdown",
   "id": "0bb1f3d7",
   "metadata": {
    "id": "0bb1f3d7"
   },
   "source": [
    "#### Naive method"
   ]
  },
  {
   "cell_type": "code",
   "execution_count": null,
   "id": "c5aa005c",
   "metadata": {
    "id": "c5aa005c"
   },
   "outputs": [],
   "source": [
    "y_hat_naive = test.copy()\n",
    "y_hat_naive['naive_forecast'] = train['y'][train_len-1]"
   ]
  },
  {
   "cell_type": "code",
   "execution_count": null,
   "id": "cc871790",
   "metadata": {
    "id": "cc871790",
    "outputId": "04b5d0fe-cb5a-423e-d7da-cc886e977ec4"
   },
   "outputs": [],
   "source": [
    "# Plot train, test and forecast\n",
    "\n",
    "plt.figure(figsize=(12,4))\n",
    "plt.plot(train['y'], label='Train')\n",
    "plt.plot(test['y'], label='Test')\n",
    "plt.plot(y_hat_naive['naive_forecast'], label='Naive forecast')\n",
    "plt.legend(loc='best')\n",
    "plt.title('Naive Method')\n",
    "plt.show()"
   ]
  },
  {
   "cell_type": "code",
   "execution_count": null,
   "id": "9679811b",
   "metadata": {
    "id": "9679811b",
    "outputId": "4be5c846-87f7-45de-bfd5-fed3ada3b156"
   },
   "outputs": [],
   "source": [
    "# Calculate RMSE and MAPE\n",
    "\n",
    "from sklearn.metrics import mean_squared_error\n",
    "rmse = np.sqrt(mean_squared_error(test['y'], y_hat_naive['naive_forecast'])).round(2)\n",
    "mape = np.round(np.mean(np.abs(test['y']-y_hat_naive['naive_forecast'])/test['y'])*100,2)\n",
    "\n",
    "results = pd.DataFrame({'Method':['Naive method'], 'MAPE': [mape], 'RMSE': [rmse]})\n",
    "results = results[['Method', 'RMSE', 'MAPE']]\n",
    "results"
   ]
  },
  {
   "cell_type": "markdown",
   "id": "06a3fbfc",
   "metadata": {
    "id": "06a3fbfc"
   },
   "source": [
    "#### Simple average method"
   ]
  },
  {
   "cell_type": "code",
   "execution_count": null,
   "id": "930224ec",
   "metadata": {
    "id": "930224ec"
   },
   "outputs": [],
   "source": [
    "y_hat_avg = test.copy()\n",
    "y_hat_avg['avg_forecast'] = train['y'].mean()"
   ]
  },
  {
   "cell_type": "code",
   "execution_count": null,
   "id": "0ffcddaf",
   "metadata": {
    "id": "0ffcddaf",
    "outputId": "cbfeadfd-e399-4f4a-ab14-3b1ca1425f93"
   },
   "outputs": [],
   "source": [
    "# Plot train, test and forecast\n",
    "\n",
    "plt.figure(figsize=(12,4))\n",
    "plt.plot(train['y'], label='Train')\n",
    "plt.plot(test['y'], label='Test')\n",
    "plt.plot(y_hat_avg['avg_forecast'], label='Simple average forecast')\n",
    "plt.legend(loc='best')\n",
    "plt.title('Simple Average Method')\n",
    "plt.show()"
   ]
  },
  {
   "cell_type": "code",
   "execution_count": null,
   "id": "b41bb668",
   "metadata": {
    "id": "b41bb668",
    "outputId": "35f07a7a-f81f-4263-b008-9981107fd2f0"
   },
   "outputs": [],
   "source": [
    "# Calculate RMSE and MAPE\n",
    "\n",
    "rmse = np.sqrt(mean_squared_error(test['y'], y_hat_avg['avg_forecast'])).round(2)\n",
    "mape = np.round(np.mean(np.abs(test['y']-y_hat_avg['avg_forecast'])/test['y'])*100,2)\n",
    "\n",
    "tempResults = pd.DataFrame({'Method':['Simple average method'], 'RMSE': [rmse],'MAPE': [mape] })\n",
    "results = pd.concat([results, tempResults])\n",
    "results = results[['Method', 'RMSE', 'MAPE']]\n",
    "results"
   ]
  },
  {
   "cell_type": "markdown",
   "id": "72c64f05",
   "metadata": {
    "id": "72c64f05"
   },
   "source": [
    "#### Simple moving average method"
   ]
  },
  {
   "cell_type": "code",
   "execution_count": null,
   "id": "31494829",
   "metadata": {
    "id": "31494829"
   },
   "outputs": [],
   "source": [
    "y_hat_sma = df_sd.copy()\n",
    "ma_window = 12\n",
    "y_hat_sma['sma_forecast'] = df_sd['y'].rolling(ma_window).mean()\n",
    "y_hat_sma['sma_forecast'][train_len:] = y_hat_sma['sma_forecast'][train_len-1]"
   ]
  },
  {
   "cell_type": "code",
   "execution_count": null,
   "id": "fc9d70ff",
   "metadata": {
    "id": "fc9d70ff",
    "outputId": "dc9461ad-60a6-4c22-f938-cc1238867ac9"
   },
   "outputs": [],
   "source": [
    "# Plot train, test and forecast\n",
    "\n",
    "plt.figure(figsize=(12,4))\n",
    "plt.plot(train['y'], label='Train')\n",
    "plt.plot(test['y'], label='Test')\n",
    "plt.plot(y_hat_sma['sma_forecast'], label='Simple moving average forecast')\n",
    "plt.legend(loc='best')\n",
    "plt.title('Simple Moving Average Method')\n",
    "plt.show()"
   ]
  },
  {
   "cell_type": "code",
   "execution_count": null,
   "id": "b1f59aea",
   "metadata": {
    "id": "b1f59aea",
    "outputId": "dcaa67b3-fea1-4d08-f98e-ff46c4ad3ee6"
   },
   "outputs": [],
   "source": [
    "# Calculate RMSE and MAPE\n",
    "\n",
    "rmse = np.sqrt(mean_squared_error(test['y'], y_hat_sma['sma_forecast'][train_len:])).round(2)\n",
    "mape = np.round(np.mean(np.abs(test['y']-y_hat_sma['sma_forecast'][train_len:])/test['y'])*100,2)\n",
    "\n",
    "tempResults = pd.DataFrame({'Method':['Simple moving average forecast'], 'RMSE': [rmse],'MAPE': [mape] })\n",
    "results = pd.concat([results, tempResults])\n",
    "results = results[['Method', 'RMSE', 'MAPE']]\n",
    "results"
   ]
  },
  {
   "cell_type": "markdown",
   "id": "4eef76c1",
   "metadata": {
    "id": "4eef76c1"
   },
   "source": [
    "### Exponential Smoothing Techniques"
   ]
  },
  {
   "cell_type": "markdown",
   "id": "edb2e504",
   "metadata": {
    "id": "edb2e504"
   },
   "source": [
    "#### Simple exponential smoothing"
   ]
  },
  {
   "cell_type": "code",
   "execution_count": null,
   "id": "2289bf9b",
   "metadata": {
    "id": "2289bf9b"
   },
   "outputs": [],
   "source": [
    "from statsmodels.tsa.holtwinters import SimpleExpSmoothing\n",
    "model = SimpleExpSmoothing(train['y'])\n",
    "model_fit = model.fit(optimized=True)\n",
    "model_fit.params\n",
    "y_hat_ses = test.copy()\n",
    "y_hat_ses['ses_forecast'] = model_fit.forecast(len(test))"
   ]
  },
  {
   "cell_type": "code",
   "execution_count": null,
   "id": "0f0eb016",
   "metadata": {
    "id": "0f0eb016",
    "outputId": "b0c1abfc-b958-495d-a842-f87094a44448"
   },
   "outputs": [],
   "source": [
    "# Plot train, test, forecast\n",
    "\n",
    "plt.figure(figsize=(12,4))\n",
    "plt.plot(train['y'], label='Train')\n",
    "plt.plot(test['y'], label='Test')\n",
    "plt.plot(y_hat_ses['ses_forecast'], label='Simple exponential smoothing forecast')\n",
    "plt.legend(loc='best')\n",
    "plt.title('Simple Exponential Smoothing Method')\n",
    "plt.show()"
   ]
  },
  {
   "cell_type": "code",
   "execution_count": null,
   "id": "0fa8afc3",
   "metadata": {
    "id": "0fa8afc3",
    "outputId": "462ce167-f49e-4e5d-8a41-728f23fcb627"
   },
   "outputs": [],
   "source": [
    "# Calculate RMSE and MAPE\n",
    "\n",
    "rmse = np.sqrt(mean_squared_error(test['y'], y_hat_ses['ses_forecast'])).round(2)\n",
    "mape = np.round(np.mean(np.abs(test['y']-y_hat_ses['ses_forecast'])/test['y'])*100,2)\n",
    "\n",
    "tempResults = pd.DataFrame({'Method':['Simple exponential smoothing forecast'], 'RMSE': [rmse],'MAPE': [mape] })\n",
    "results = pd.concat([results, tempResults])\n",
    "results"
   ]
  },
  {
   "cell_type": "markdown",
   "id": "6554c51e",
   "metadata": {
    "id": "6554c51e"
   },
   "source": [
    "#### Holt's method with trend"
   ]
  },
  {
   "cell_type": "code",
   "execution_count": null,
   "id": "166006b2",
   "metadata": {
    "id": "166006b2",
    "outputId": "67d720fd-cc69-4627-d7b9-aeb1a1970e83"
   },
   "outputs": [],
   "source": [
    "from statsmodels.tsa.holtwinters import ExponentialSmoothing\n",
    "model = ExponentialSmoothing(np.asarray(train['y']) ,seasonal_periods=12 ,trend='additive', seasonal=None)\n",
    "model_fit = model.fit(optimized=True)\n",
    "print(model_fit.params)\n",
    "y_hat_holt = test.copy()\n",
    "y_hat_holt['holt_forecast'] = model_fit.forecast(len(test))"
   ]
  },
  {
   "cell_type": "code",
   "execution_count": null,
   "id": "5d083e0c",
   "metadata": {
    "id": "5d083e0c",
    "outputId": "9b112920-2c9d-4807-d598-28cd00e7da18"
   },
   "outputs": [],
   "source": [
    "# Plot train, test, forecast\n",
    "\n",
    "plt.figure(figsize=(12,4))\n",
    "plt.plot( train['y'], label='Train')\n",
    "plt.plot(test['y'], label='Test')\n",
    "plt.plot(y_hat_holt['holt_forecast'], label='Holt\\'s exponential smoothing forecast')\n",
    "plt.legend(loc='best')\n",
    "plt.title('Holt\\'s Exponential Smoothing Method')\n",
    "plt.show()"
   ]
  },
  {
   "cell_type": "code",
   "execution_count": null,
   "id": "33947745",
   "metadata": {
    "id": "33947745",
    "outputId": "6d472c7e-6f9d-48d1-ebb7-2c8dcc79d3fd"
   },
   "outputs": [],
   "source": [
    "# Calculate RMSE and MAPE\n",
    "\n",
    "rmse = np.sqrt(mean_squared_error(test['y'], y_hat_holt['holt_forecast'])).round(2)\n",
    "mape = np.round(np.mean(np.abs(test['y']-y_hat_holt['holt_forecast'])/test['y'])*100,2)\n",
    "\n",
    "tempResults = pd.DataFrame({'Method':['Holt\\'s exponential smoothing method'], 'RMSE': [rmse],'MAPE': [mape] })\n",
    "results = pd.concat([results, tempResults])\n",
    "results = results[['Method', 'RMSE', 'MAPE']]\n",
    "results"
   ]
  },
  {
   "cell_type": "markdown",
   "id": "708cab1f",
   "metadata": {
    "id": "708cab1f"
   },
   "source": [
    "#### Holt Winters' additive method with trend and seasonality"
   ]
  },
  {
   "cell_type": "code",
   "execution_count": null,
   "id": "269844d6",
   "metadata": {
    "id": "269844d6",
    "outputId": "28d054e7-48f0-4eb8-c39b-af4d048103e3"
   },
   "outputs": [],
   "source": [
    "y_hat_hwa = test.copy()\n",
    "model = ExponentialSmoothing(np.asarray(train['y']) ,seasonal_periods=12 ,trend='add', seasonal='add')\n",
    "model_fit = model.fit(optimized=True)\n",
    "print(model_fit.params)\n",
    "y_hat_hwa['hw_forecast'] = model_fit.forecast(len(test))"
   ]
  },
  {
   "cell_type": "code",
   "execution_count": null,
   "id": "d2008d6d",
   "metadata": {
    "id": "d2008d6d",
    "outputId": "28176d64-6f50-4c31-80eb-6c7ea8a53230"
   },
   "outputs": [],
   "source": [
    "# Plot train, test, forecast\n",
    "\n",
    "plt.figure(figsize=(12,4))\n",
    "plt.plot( train['y'], label='Train')\n",
    "plt.plot(test['y'], label='Test')\n",
    "plt.plot(y_hat_hwa['hw_forecast'], label='Holt Winters\\'s additive forecast')\n",
    "plt.legend(loc='best')\n",
    "plt.title('Holt Winters\\' Additive Method')\n",
    "plt.show()"
   ]
  },
  {
   "cell_type": "code",
   "execution_count": null,
   "id": "bcacb7e8",
   "metadata": {
    "id": "bcacb7e8",
    "outputId": "0f68759e-4420-482e-bac1-bf47a9c02d39"
   },
   "outputs": [],
   "source": [
    "# Calculate RMSE and MAPE\n",
    "\n",
    "rmse = np.sqrt(mean_squared_error(test['y'], y_hat_hwa['hw_forecast'])).round(2)\n",
    "mape = np.round(np.mean(np.abs(test['y']-y_hat_hwa['hw_forecast'])/test['y'])*100,2)\n",
    "\n",
    "tempResults = pd.DataFrame({'Method':['Holt Winters\\' additive method'], 'RMSE': [rmse],'MAPE': [mape] })\n",
    "results = pd.concat([results, tempResults])\n",
    "results = results[['Method', 'RMSE', 'MAPE']]\n",
    "results"
   ]
  },
  {
   "cell_type": "markdown",
   "id": "642575b9",
   "metadata": {
    "id": "642575b9"
   },
   "source": [
    "### Auto regressive methods"
   ]
  },
  {
   "cell_type": "code",
   "execution_count": null,
   "id": "cc388c55",
   "metadata": {
    "id": "cc388c55",
    "outputId": "3a245d12-fcc7-4fa7-bee3-ecc99c6f2c63"
   },
   "outputs": [],
   "source": [
    "# Check for sationarity using Augmented Dickey-Fuller (ADF) test\n",
    "\n",
    "from statsmodels.tsa.stattools import adfuller\n",
    "adf_test = adfuller(df_sd['y'])\n",
    "\n",
    "print('ADF Statistic: %f' % adf_test[0])\n",
    "print('Critical Values @ 0.05: %.2f' % adf_test[4]['5%'])\n",
    "print('p-value: %f' %adf_test[1])"
   ]
  },
  {
   "cell_type": "markdown",
   "id": "8a546166",
   "metadata": {
    "id": "8a546166"
   },
   "source": [
    "Inference : p-value is less than 0.05. This means that the series is stationary."
   ]
  },
  {
   "cell_type": "code",
   "execution_count": null,
   "id": "8a5f923b",
   "metadata": {
    "id": "8a5f923b",
    "outputId": "2d912aec-613d-4785-f98d-feef2dc9d295"
   },
   "outputs": [],
   "source": [
    "# Check for sationarity using Kwiatkowski-Phillips-Schmidt-Shin (KPSS) test\n",
    "\n",
    "from statsmodels.tsa.stattools import kpss\n",
    "kpss_test = kpss(df_sd['y'])\n",
    "\n",
    "print('KPSS Statistic: %f' % kpss_test[0])\n",
    "print('Critical Values @ 0.05: %.2f' % kpss_test[3]['5%'])\n",
    "print('p-value: %f' % kpss_test[1])\n"
   ]
  },
  {
   "cell_type": "markdown",
   "id": "c13b2457",
   "metadata": {
    "id": "c13b2457"
   },
   "source": [
    "Inference : p-value is greater than 0.05. This means that the series is not stationary."
   ]
  },
  {
   "cell_type": "markdown",
   "id": "bc2ea044",
   "metadata": {
    "id": "bc2ea044"
   },
   "source": [
    "### Auto regression method (AR)"
   ]
  },
  {
   "cell_type": "code",
   "execution_count": null,
   "id": "5be2511a",
   "metadata": {
    "id": "5be2511a"
   },
   "outputs": [],
   "source": [
    "train_len = int(len(df_sd)-10)\n",
    "train = df_sd[0 : train_len]\n",
    "test = df_sd[train_len : ]"
   ]
  },
  {
   "cell_type": "code",
   "execution_count": null,
   "id": "cd47c599",
   "metadata": {
    "id": "cd47c599",
    "outputId": "6bb33bcc-69aa-4b42-e92f-d59b091eca75"
   },
   "outputs": [],
   "source": [
    "from statsmodels.tsa.arima.model import ARIMA\n",
    "model = ARIMA(train, order=(1, 1, 10)) \n",
    "model_fit = model.fit()\n",
    "print(model_fit.params)"
   ]
  },
  {
   "cell_type": "code",
   "execution_count": null,
   "id": "5900fece",
   "metadata": {
    "id": "5900fece"
   },
   "outputs": [],
   "source": [
    "# Recover original time series\n",
    "\n",
    "y_hat_ar = df_sd.copy()\n",
    "y_hat_ar['ar_forecast'] = model_fit.predict(test.index.min(), test.index.max())\n"
   ]
  },
  {
   "cell_type": "code",
   "execution_count": null,
   "id": "2dea869b",
   "metadata": {
    "id": "2dea869b",
    "outputId": "1bae359e-100a-45f2-cc74-e9dff6c46ba2"
   },
   "outputs": [],
   "source": [
    "# Plot train, test and forecast\n",
    "\n",
    "plt.figure(figsize=(12,4))\n",
    "#plt.plot(train['y'], label='Train')\n",
    "plt.plot(test['y'], label='Test')\n",
    "plt.plot(y_hat_ar['ar_forecast'][test.index.min():], label='Auto regression forecast')\n",
    "plt.legend(loc='best')\n",
    "plt.title('Auto Regression Method')\n",
    "plt.show()"
   ]
  },
  {
   "cell_type": "code",
   "execution_count": null,
   "id": "a2aae8c0",
   "metadata": {
    "id": "a2aae8c0",
    "outputId": "6881bc8e-a958-400d-c655-ab78a0c5f582"
   },
   "outputs": [],
   "source": [
    "y_hat_ar"
   ]
  },
  {
   "cell_type": "markdown",
   "id": "8e1f059f",
   "metadata": {
    "id": "8e1f059f"
   },
   "source": [
    "### Seasonal auto regressive integrated moving average (SARIMA)"
   ]
  },
  {
   "cell_type": "code",
   "execution_count": null,
   "id": "ac8f0b31",
   "metadata": {
    "colab": {
     "base_uri": "https://localhost:8080/",
     "height": 238
    },
    "id": "ac8f0b31",
    "outputId": "6ae2be69-4363-48da-d40c-275a26a18597"
   },
   "outputs": [],
   "source": [
    "from statsmodels.tsa.statespace.sarimax import SARIMAX\n",
    "\n",
    "model = SARIMAX(train, order=(1, 1, 2), seasonal_order=(1, 1, 1, 12)) \n",
    "model_fit = model.fit()\n",
    "print(model_fit.params)"
   ]
  },
  {
   "cell_type": "code",
   "execution_count": null,
   "id": "e3b702a8",
   "metadata": {
    "id": "e3b702a8"
   },
   "outputs": [],
   "source": [
    "# Recover original time series forecast\n",
    "\n",
    "y_hat_sarima = df_sd.copy()\n",
    "y_hat_sarima['sarima_forecast'] = model_fit.predict(test.index.min(), test.index.max())"
   ]
  },
  {
   "cell_type": "code",
   "execution_count": null,
   "id": "8eee9a5a",
   "metadata": {
    "id": "8eee9a5a",
    "outputId": "a974972e-d0f5-490e-c32c-82987b20b809"
   },
   "outputs": [],
   "source": [
    "# Plot train, test and forecast\n",
    "\n",
    "plt.figure(figsize=(12,4))\n",
    "#plt.plot(train['y'], label='Train')\n",
    "plt.plot(test['y'], label='Test')\n",
    "plt.plot(y_hat_sarima['sarima_forecast'][test.index.min():], label='SARIMA forecast')\n",
    "plt.legend(loc='best')\n",
    "plt.title('Seasonal autoregressive integrated moving average (SARIMA) method')\n",
    "plt.show()"
   ]
  },
  {
   "cell_type": "markdown",
   "id": "nGs8Bi610bMc",
   "metadata": {
    "id": "nGs8Bi610bMc"
   },
   "source": [
    "## Rolling Forecast"
   ]
  },
  {
   "cell_type": "code",
   "execution_count": null,
   "id": "Y56Bt2geANZx",
   "metadata": {
    "id": "Y56Bt2geANZx"
   },
   "outputs": [],
   "source": [
    "import numpy as np\n",
    "import pandas as pd\n",
    "import matplotlib.pyplot as plt\n",
    "import seaborn as sns\n",
    "import warnings\n",
    "import math\n",
    "from scipy.stats import variation\n",
    "from pylab import rcParams\n",
    "import statsmodels.api as sm\n",
    "\n",
    "df_joined = pd.read_csv(\"/content/df_analysis.csv\")"
   ]
  },
  {
   "cell_type": "code",
   "execution_count": null,
   "id": "se9QMebfASSR",
   "metadata": {
    "id": "se9QMebfASSR"
   },
   "outputs": [],
   "source": [
    "%matplotlib inline\n",
    "warnings.filterwarnings('ignore')\n",
    "sns.set_style('darkgrid')"
   ]
  },
  {
   "cell_type": "code",
   "execution_count": null,
   "id": "Gc-fV2RRAUKO",
   "metadata": {
    "colab": {
     "base_uri": "https://localhost:8080/"
    },
    "id": "Gc-fV2RRAUKO",
    "outputId": "74bfeb84-f24b-48a4-8e16-6a89660f7fb5"
   },
   "outputs": [],
   "source": [
    "import sklearn\n",
    "from sklearn.metrics import mean_squared_error\n",
    "df = df_joined\n",
    "df.shape"
   ]
  },
  {
   "cell_type": "code",
   "execution_count": null,
   "id": "tbjbXr4ZAEuE",
   "metadata": {
    "id": "tbjbXr4ZAEuE"
   },
   "outputs": [],
   "source": [
    "df_sd = df[['ds', 'y']].copy()\n",
    "df_sd['ds'] = pd.to_datetime(df_sd['ds'])\n",
    "df_sd = df_sd.set_index('ds')\n",
    "df_sd = df_sd.resample('H').mean()\n",
    "df_sd = df_sd.fillna(0)"
   ]
  },
  {
   "cell_type": "code",
   "execution_count": null,
   "id": "Kipo8XMJ0OoG",
   "metadata": {
    "id": "Kipo8XMJ0OoG"
   },
   "outputs": [],
   "source": [
    "from statsmodels.tsa.arima.model import ARIMA\n",
    "\n",
    "X = df_sd.squeeze()\n",
    "size = int(len(df_sd) * 0.99)\n",
    "train, test = X[0:size], X[size:len(X)]\n",
    "\n",
    "history = [x for x in train]\n",
    "predictions = list()\n"
   ]
  },
  {
   "cell_type": "code",
   "execution_count": null,
   "id": "koC3JzJx0qb0",
   "metadata": {
    "colab": {
     "base_uri": "https://localhost:8080/"
    },
    "id": "koC3JzJx0qb0",
    "outputId": "210a6476-8030-4641-9f75-f5ca405a8b54"
   },
   "outputs": [],
   "source": [
    "for t in range(len(test)):\n",
    "    model = ARIMA(history, order = (1, 0, 1))\n",
    "    model_fit = model.fit()\n",
    "    output = model_fit.forecast()\n",
    "    yhat = output[0]\n",
    "    predictions.append(yhat)\n",
    "    obs = test[t]\n",
    "    history.append(obs)\n",
    "    print('predicted = %f, expected = %f' % (yhat, obs))"
   ]
  },
  {
   "cell_type": "code",
   "execution_count": null,
   "id": "PKnXP_pO1aQE",
   "metadata": {
    "colab": {
     "base_uri": "https://localhost:8080/",
     "height": 609
    },
    "id": "PKnXP_pO1aQE",
    "outputId": "244653f2-ddd5-47e4-ccce-fb9ce49b49e5"
   },
   "outputs": [],
   "source": [
    "fig = plt.figure(figsize=(20,10))\n",
    "plt.plot(history[-len(predictions):])\n",
    "plt.plot(predictions)"
   ]
  },
  {
   "cell_type": "code",
   "execution_count": null,
   "id": "ffLO2TnNBkcK",
   "metadata": {
    "colab": {
     "base_uri": "https://localhost:8080/",
     "height": 609
    },
    "id": "ffLO2TnNBkcK",
    "outputId": "7b722393-b7f7-46dd-fe6a-01cd6826ed10"
   },
   "outputs": [],
   "source": [
    "fig = plt.figure(figsize=(20,10))\n",
    "plt.plot(history[-len(predictions):])\n",
    "plt.plot(predictions)"
   ]
  },
  {
   "cell_type": "markdown",
   "id": "Ly2zH-Z8FNZO",
   "metadata": {
    "id": "Ly2zH-Z8FNZO"
   },
   "source": [
    "## ARIMAX model with air temp FROM HERE"
   ]
  },
  {
   "cell_type": "markdown",
   "id": "641c8a26",
   "metadata": {},
   "source": [
    "https://github.com/SimoAntikainen/sarimax-climate-change-forecast/blob/master/sarimax-climate-change-workfiles.ipynb"
   ]
  },
  {
   "cell_type": "code",
   "execution_count": 1,
   "id": "MvWDsImVE5Ek",
   "metadata": {
    "id": "MvWDsImVE5Ek"
   },
   "outputs": [
    {
     "name": "stdout",
     "output_type": "stream",
     "text": [
      "/home/charlie/Documents/Uni/Exeter - Data Science/MTHM604_Tackling_Sustainability_Challenges/MTHM604_week_12/MTHM604_week_1/code\n"
     ]
    }
   ],
   "source": [
    "import numpy as np\n",
    "import pandas as pd\n",
    "import matplotlib.pyplot as plt\n",
    "import seaborn as sns\n",
    "import warnings\n",
    "import math\n",
    "from scipy.stats import variation\n",
    "from pylab import rcParams\n",
    "import statsmodels.api as sm\n",
    "import os\n",
    "from statsmodels.tsa.arima.model import ARIMA\n",
    "from sklearn.metrics import mean_squared_error\n",
    "import functions\n",
    "\n",
    "%matplotlib inline\n",
    "warnings.filterwarnings('ignore')\n",
    "sns.set_style('darkgrid')\n",
    "\n",
    "print(os.getcwd())\n",
    "\n",
    "resamp_period = 'D'\n"
   ]
  },
  {
   "cell_type": "code",
   "execution_count": 2,
   "id": "Oy_KotOlFQWG",
   "metadata": {
    "id": "Oy_KotOlFQWG"
   },
   "outputs": [
    {
     "data": {
      "text/html": [
       "<div>\n",
       "<style scoped>\n",
       "    .dataframe tbody tr th:only-of-type {\n",
       "        vertical-align: middle;\n",
       "    }\n",
       "\n",
       "    .dataframe tbody tr th {\n",
       "        vertical-align: top;\n",
       "    }\n",
       "\n",
       "    .dataframe thead th {\n",
       "        text-align: right;\n",
       "    }\n",
       "</style>\n",
       "<table border=\"1\" class=\"dataframe\">\n",
       "  <thead>\n",
       "    <tr style=\"text-align: right;\">\n",
       "      <th></th>\n",
       "      <th>y_mean</th>\n",
       "      <th>wind_direction_mean</th>\n",
       "      <th>wind_speed_mean</th>\n",
       "      <th>msl_pressure_mean</th>\n",
       "      <th>air_temperature_mean</th>\n",
       "      <th>rltv_hum_mean</th>\n",
       "      <th>stn_pres_mean</th>\n",
       "      <th>y_mean_max</th>\n",
       "      <th>wind_direction_mean_max</th>\n",
       "      <th>wind_speed_mean_max</th>\n",
       "      <th>msl_pressure_mean_max</th>\n",
       "      <th>air_temperature_mean_max</th>\n",
       "      <th>rltv_hum_mean_max</th>\n",
       "      <th>stn_pres_mean_max</th>\n",
       "    </tr>\n",
       "    <tr>\n",
       "      <th>ds</th>\n",
       "      <th></th>\n",
       "      <th></th>\n",
       "      <th></th>\n",
       "      <th></th>\n",
       "      <th></th>\n",
       "      <th></th>\n",
       "      <th></th>\n",
       "      <th></th>\n",
       "      <th></th>\n",
       "      <th></th>\n",
       "      <th></th>\n",
       "      <th></th>\n",
       "      <th></th>\n",
       "      <th></th>\n",
       "    </tr>\n",
       "  </thead>\n",
       "  <tbody>\n",
       "    <tr>\n",
       "      <th>2018-01-01</th>\n",
       "      <td>2.922657</td>\n",
       "      <td>257.083333</td>\n",
       "      <td>15.000000</td>\n",
       "      <td>1004.420833</td>\n",
       "      <td>8.362500</td>\n",
       "      <td>75.675000</td>\n",
       "      <td>993.883333</td>\n",
       "      <td>2.922657</td>\n",
       "      <td>257.083333</td>\n",
       "      <td>15.000000</td>\n",
       "      <td>1004.420833</td>\n",
       "      <td>8.362500</td>\n",
       "      <td>75.675000</td>\n",
       "      <td>993.883333</td>\n",
       "    </tr>\n",
       "    <tr>\n",
       "      <th>2018-01-02</th>\n",
       "      <td>11.171889</td>\n",
       "      <td>227.500000</td>\n",
       "      <td>15.541667</td>\n",
       "      <td>1006.583333</td>\n",
       "      <td>10.408333</td>\n",
       "      <td>90.450000</td>\n",
       "      <td>996.100000</td>\n",
       "      <td>11.171889</td>\n",
       "      <td>227.500000</td>\n",
       "      <td>15.541667</td>\n",
       "      <td>1006.583333</td>\n",
       "      <td>10.408333</td>\n",
       "      <td>90.450000</td>\n",
       "      <td>996.100000</td>\n",
       "    </tr>\n",
       "    <tr>\n",
       "      <th>2018-01-03</th>\n",
       "      <td>22.949293</td>\n",
       "      <td>260.416667</td>\n",
       "      <td>21.416667</td>\n",
       "      <td>1004.495833</td>\n",
       "      <td>9.187500</td>\n",
       "      <td>75.345833</td>\n",
       "      <td>993.979167</td>\n",
       "      <td>22.949293</td>\n",
       "      <td>260.416667</td>\n",
       "      <td>21.416667</td>\n",
       "      <td>1004.495833</td>\n",
       "      <td>9.187500</td>\n",
       "      <td>75.345833</td>\n",
       "      <td>993.979167</td>\n",
       "    </tr>\n",
       "    <tr>\n",
       "      <th>2018-01-04</th>\n",
       "      <td>10.368371</td>\n",
       "      <td>252.916667</td>\n",
       "      <td>20.125000</td>\n",
       "      <td>998.366667</td>\n",
       "      <td>10.537500</td>\n",
       "      <td>85.329167</td>\n",
       "      <td>987.987500</td>\n",
       "      <td>10.368371</td>\n",
       "      <td>252.916667</td>\n",
       "      <td>20.125000</td>\n",
       "      <td>998.366667</td>\n",
       "      <td>10.537500</td>\n",
       "      <td>85.329167</td>\n",
       "      <td>987.987500</td>\n",
       "    </tr>\n",
       "    <tr>\n",
       "      <th>2018-01-05</th>\n",
       "      <td>19.582053</td>\n",
       "      <td>235.000000</td>\n",
       "      <td>8.416667</td>\n",
       "      <td>995.545833</td>\n",
       "      <td>6.108333</td>\n",
       "      <td>83.437500</td>\n",
       "      <td>984.995833</td>\n",
       "      <td>19.582053</td>\n",
       "      <td>235.000000</td>\n",
       "      <td>8.416667</td>\n",
       "      <td>995.545833</td>\n",
       "      <td>6.108333</td>\n",
       "      <td>83.437500</td>\n",
       "      <td>984.995833</td>\n",
       "    </tr>\n",
       "    <tr>\n",
       "      <th>...</th>\n",
       "      <td>...</td>\n",
       "      <td>...</td>\n",
       "      <td>...</td>\n",
       "      <td>...</td>\n",
       "      <td>...</td>\n",
       "      <td>...</td>\n",
       "      <td>...</td>\n",
       "      <td>...</td>\n",
       "      <td>...</td>\n",
       "      <td>...</td>\n",
       "      <td>...</td>\n",
       "      <td>...</td>\n",
       "      <td>...</td>\n",
       "      <td>...</td>\n",
       "    </tr>\n",
       "    <tr>\n",
       "      <th>2020-12-27</th>\n",
       "      <td>0.000000</td>\n",
       "      <td>281.666667</td>\n",
       "      <td>19.083333</td>\n",
       "      <td>980.750000</td>\n",
       "      <td>7.000000</td>\n",
       "      <td>76.295833</td>\n",
       "      <td>970.416667</td>\n",
       "      <td>0.000000</td>\n",
       "      <td>281.666667</td>\n",
       "      <td>19.083333</td>\n",
       "      <td>980.750000</td>\n",
       "      <td>7.000000</td>\n",
       "      <td>76.295833</td>\n",
       "      <td>970.416667</td>\n",
       "    </tr>\n",
       "    <tr>\n",
       "      <th>2020-12-28</th>\n",
       "      <td>0.000000</td>\n",
       "      <td>322.500000</td>\n",
       "      <td>21.000000</td>\n",
       "      <td>978.616667</td>\n",
       "      <td>6.800000</td>\n",
       "      <td>74.637500</td>\n",
       "      <td>968.295833</td>\n",
       "      <td>0.000000</td>\n",
       "      <td>322.500000</td>\n",
       "      <td>21.000000</td>\n",
       "      <td>978.616667</td>\n",
       "      <td>6.800000</td>\n",
       "      <td>74.637500</td>\n",
       "      <td>968.295833</td>\n",
       "    </tr>\n",
       "    <tr>\n",
       "      <th>2020-12-29</th>\n",
       "      <td>0.000000</td>\n",
       "      <td>310.416667</td>\n",
       "      <td>17.583333</td>\n",
       "      <td>995.166667</td>\n",
       "      <td>6.045833</td>\n",
       "      <td>76.650000</td>\n",
       "      <td>984.633333</td>\n",
       "      <td>0.000000</td>\n",
       "      <td>310.416667</td>\n",
       "      <td>17.583333</td>\n",
       "      <td>995.166667</td>\n",
       "      <td>6.045833</td>\n",
       "      <td>76.650000</td>\n",
       "      <td>984.633333</td>\n",
       "    </tr>\n",
       "    <tr>\n",
       "      <th>2020-12-30</th>\n",
       "      <td>0.000000</td>\n",
       "      <td>204.166667</td>\n",
       "      <td>7.583333</td>\n",
       "      <td>1004.262500</td>\n",
       "      <td>5.358333</td>\n",
       "      <td>83.925000</td>\n",
       "      <td>993.595833</td>\n",
       "      <td>0.000000</td>\n",
       "      <td>204.166667</td>\n",
       "      <td>7.583333</td>\n",
       "      <td>1004.262500</td>\n",
       "      <td>5.358333</td>\n",
       "      <td>83.925000</td>\n",
       "      <td>993.595833</td>\n",
       "    </tr>\n",
       "    <tr>\n",
       "      <th>2020-12-31</th>\n",
       "      <td>0.000000</td>\n",
       "      <td>236.666667</td>\n",
       "      <td>6.791667</td>\n",
       "      <td>1007.525000</td>\n",
       "      <td>3.395833</td>\n",
       "      <td>78.883333</td>\n",
       "      <td>996.779167</td>\n",
       "      <td>0.000000</td>\n",
       "      <td>236.666667</td>\n",
       "      <td>6.791667</td>\n",
       "      <td>1007.525000</td>\n",
       "      <td>3.395833</td>\n",
       "      <td>78.883333</td>\n",
       "      <td>996.779167</td>\n",
       "    </tr>\n",
       "  </tbody>\n",
       "</table>\n",
       "<p>1096 rows × 14 columns</p>\n",
       "</div>"
      ],
      "text/plain": [
       "               y_mean  wind_direction_mean  wind_speed_mean  \\\n",
       "ds                                                            \n",
       "2018-01-01   2.922657           257.083333        15.000000   \n",
       "2018-01-02  11.171889           227.500000        15.541667   \n",
       "2018-01-03  22.949293           260.416667        21.416667   \n",
       "2018-01-04  10.368371           252.916667        20.125000   \n",
       "2018-01-05  19.582053           235.000000         8.416667   \n",
       "...               ...                  ...              ...   \n",
       "2020-12-27   0.000000           281.666667        19.083333   \n",
       "2020-12-28   0.000000           322.500000        21.000000   \n",
       "2020-12-29   0.000000           310.416667        17.583333   \n",
       "2020-12-30   0.000000           204.166667         7.583333   \n",
       "2020-12-31   0.000000           236.666667         6.791667   \n",
       "\n",
       "            msl_pressure_mean  air_temperature_mean  rltv_hum_mean  \\\n",
       "ds                                                                   \n",
       "2018-01-01        1004.420833              8.362500      75.675000   \n",
       "2018-01-02        1006.583333             10.408333      90.450000   \n",
       "2018-01-03        1004.495833              9.187500      75.345833   \n",
       "2018-01-04         998.366667             10.537500      85.329167   \n",
       "2018-01-05         995.545833              6.108333      83.437500   \n",
       "...                       ...                   ...            ...   \n",
       "2020-12-27         980.750000              7.000000      76.295833   \n",
       "2020-12-28         978.616667              6.800000      74.637500   \n",
       "2020-12-29         995.166667              6.045833      76.650000   \n",
       "2020-12-30        1004.262500              5.358333      83.925000   \n",
       "2020-12-31        1007.525000              3.395833      78.883333   \n",
       "\n",
       "            stn_pres_mean  y_mean_max  wind_direction_mean_max  \\\n",
       "ds                                                               \n",
       "2018-01-01     993.883333    2.922657               257.083333   \n",
       "2018-01-02     996.100000   11.171889               227.500000   \n",
       "2018-01-03     993.979167   22.949293               260.416667   \n",
       "2018-01-04     987.987500   10.368371               252.916667   \n",
       "2018-01-05     984.995833   19.582053               235.000000   \n",
       "...                   ...         ...                      ...   \n",
       "2020-12-27     970.416667    0.000000               281.666667   \n",
       "2020-12-28     968.295833    0.000000               322.500000   \n",
       "2020-12-29     984.633333    0.000000               310.416667   \n",
       "2020-12-30     993.595833    0.000000               204.166667   \n",
       "2020-12-31     996.779167    0.000000               236.666667   \n",
       "\n",
       "            wind_speed_mean_max  msl_pressure_mean_max  \\\n",
       "ds                                                       \n",
       "2018-01-01            15.000000            1004.420833   \n",
       "2018-01-02            15.541667            1006.583333   \n",
       "2018-01-03            21.416667            1004.495833   \n",
       "2018-01-04            20.125000             998.366667   \n",
       "2018-01-05             8.416667             995.545833   \n",
       "...                         ...                    ...   \n",
       "2020-12-27            19.083333             980.750000   \n",
       "2020-12-28            21.000000             978.616667   \n",
       "2020-12-29            17.583333             995.166667   \n",
       "2020-12-30             7.583333            1004.262500   \n",
       "2020-12-31             6.791667            1007.525000   \n",
       "\n",
       "            air_temperature_mean_max  rltv_hum_mean_max  stn_pres_mean_max  \n",
       "ds                                                                          \n",
       "2018-01-01                  8.362500          75.675000         993.883333  \n",
       "2018-01-02                 10.408333          90.450000         996.100000  \n",
       "2018-01-03                  9.187500          75.345833         993.979167  \n",
       "2018-01-04                 10.537500          85.329167         987.987500  \n",
       "2018-01-05                  6.108333          83.437500         984.995833  \n",
       "...                              ...                ...                ...  \n",
       "2020-12-27                  7.000000          76.295833         970.416667  \n",
       "2020-12-28                  6.800000          74.637500         968.295833  \n",
       "2020-12-29                  6.045833          76.650000         984.633333  \n",
       "2020-12-30                  5.358333          83.925000         993.595833  \n",
       "2020-12-31                  3.395833          78.883333         996.779167  \n",
       "\n",
       "[1096 rows x 14 columns]"
      ]
     },
     "execution_count": 2,
     "metadata": {},
     "output_type": "execute_result"
    }
   ],
   "source": [
    "df = functions.read_data(file_directory = \"../data/cleanData/df_analysis.csv\", \n",
    "                    resample_period = resamp_period, \n",
    "                    resample_aggregate = 'mean')\n",
    "df_sd = df\n",
    "df_sd\n",
    "df2 = functions.add_aggregate(df_sd, 'max', resamp_period)\n",
    "df2"
   ]
  },
  {
   "cell_type": "code",
   "execution_count": null,
   "id": "oZpV-1eaKlL0",
   "metadata": {
    "id": "oZpV-1eaKlL0"
   },
   "outputs": [],
   "source": [
    "tr_start, tr_end = '2018-01-01', '2020-05-31'\n",
    "te_start, te_end = '2020-06-01', '2020-06-30'"
   ]
  },
  {
   "cell_type": "code",
   "execution_count": null,
   "id": "2G0b7NplIBbP",
   "metadata": {
    "id": "2G0b7NplIBbP"
   },
   "outputs": [],
   "source": [
    "train = df_sd[tr_start : tr_end]\n",
    "test = df_sd[te_start : te_end]\n",
    "exog = df_sd[te_start : ]"
   ]
  },
  {
   "cell_type": "code",
   "execution_count": null,
   "id": "dF4EGp-xFbl0",
   "metadata": {
    "colab": {
     "base_uri": "https://localhost:8080/",
     "height": 452
    },
    "id": "dF4EGp-xFbl0",
    "outputId": "a5896776-1d2e-4ae5-8684-de3a89cebe5f"
   },
   "outputs": [],
   "source": [
    "model = ARIMA(train.y, exog = train.air_temperature, order = (0, 0,1))\n",
    "model_fitted = model.fit()\n",
    "model_fitted.summary()"
   ]
  },
  {
   "cell_type": "code",
   "execution_count": null,
   "id": "XL85y5cRFqCN",
   "metadata": {
    "colab": {
     "base_uri": "https://localhost:8080/",
     "height": 524
    },
    "id": "XL85y5cRFqCN",
    "outputId": "979d4e39-e271-4d09-bda6-89ff8abb488a"
   },
   "outputs": [],
   "source": [
    "# Plot residual errors\n",
    "residuals = pd.DataFrame(model_fitted.resid)\n",
    "fig, ax = plt.subplots(1,2, figsize = (15, 8))\n",
    "residuals.plot(title=\"Residuals\", ax=ax[0])\n",
    "residuals.plot(kind='kde', title='Density', ax=ax[1])\n",
    "plt.show()"
   ]
  },
  {
   "cell_type": "code",
   "execution_count": null,
   "id": "BxIIJPWiGi7T",
   "metadata": {
    "colab": {
     "base_uri": "https://localhost:8080/",
     "height": 500
    },
    "id": "BxIIJPWiGi7T",
    "outputId": "f216304e-1300-4595-e191-b0597990dd7f"
   },
   "outputs": [],
   "source": [
    "fig = plt.figure(figsize = (15, 8))\n",
    "plt.plot(train['y'], label = \"obs\")\n",
    "plt.plot(model_fitted.fittedvalues, label = \"predicted\")"
   ]
  },
  {
   "cell_type": "markdown",
   "id": "fUgvwjxPbap5",
   "metadata": {
    "id": "fUgvwjxPbap5"
   },
   "source": [
    "# SARIMA Model"
   ]
  },
  {
   "cell_type": "code",
   "execution_count": null,
   "id": "4echpiFCbd94",
   "metadata": {
    "colab": {
     "base_uri": "https://localhost:8080/",
     "height": 494
    },
    "id": "4echpiFCbd94",
    "outputId": "533d2b2f-f818-481c-c6f2-2986a7a3f943"
   },
   "outputs": [],
   "source": [
    "sarimax = sm.tsa.statespace.SARIMAX(train.y,order=([1,0,1]),trend='c', seasonal_order=(1,0,1,12),\n",
    "                                 enforce_stationarity=False, enforce_invertibility=False ).fit()\n",
    "sarimax.summary()\n"
   ]
  },
  {
   "cell_type": "code",
   "execution_count": null,
   "id": "OpoALt7XbePl",
   "metadata": {
    "colab": {
     "base_uri": "https://localhost:8080/",
     "height": 317
    },
    "id": "OpoALt7XbePl",
    "outputId": "971c813d-547c-45b9-f45d-f56a8f04c6ab"
   },
   "outputs": [],
   "source": [
    "pred = sarimax.predict(tr_end,te_end)[1:]\n",
    "print('SARIMA model MSE:{}'.format(mean_squared_error(test.y,pred)))\n",
    "\n",
    "pd.DataFrame({'test':test.y.values.flatten(),'pred':pred}).plot();plt.show()\n",
    "\n"
   ]
  },
  {
   "cell_type": "markdown",
   "id": "1Ma-YUczL-Hz",
   "metadata": {
    "id": "1Ma-YUczL-Hz"
   },
   "source": [
    "## SARIMAX Model with exogenous air temp data"
   ]
  },
  {
   "cell_type": "code",
   "execution_count": null,
   "id": "nRFW9nTDJIOJ",
   "metadata": {
    "colab": {
     "base_uri": "https://localhost:8080/",
     "height": 516
    },
    "id": "nRFW9nTDJIOJ",
    "outputId": "37392a72-0215-41c5-f93f-c865b2b62ea8"
   },
   "outputs": [],
   "source": [
    "sarimax = sm.tsa.statespace.SARIMAX(train.y,order=(1,0,1),trend='c', seasonal_order=(1,0,1,12),\n",
    "                                 enforce_stationarity=False, enforce_invertibility=False, exog=train.air_temperature).fit()\n",
    "sarimax.summary()\n",
    "\n"
   ]
  },
  {
   "cell_type": "code",
   "execution_count": null,
   "id": "TfiClpeFKSb1",
   "metadata": {
    "colab": {
     "base_uri": "https://localhost:8080/",
     "height": 317
    },
    "id": "TfiClpeFKSb1",
    "outputId": "157e96c8-af35-45b9-ed26-1ed527407972"
   },
   "outputs": [],
   "source": [
    "pred = sarimax.predict(tr_end,te_end,exog=test.air_temperature)[1:]\n",
    "print('SARIMA model MSE:{}'.format(mean_squared_error(test.y,pred)))\n",
    "\n",
    "pd.DataFrame({'test':test.y.values.flatten(),'pred':pred}).plot();plt.show()\n",
    "\n"
   ]
  },
  {
   "cell_type": "code",
   "execution_count": null,
   "id": "tx1h6ugHLVxG",
   "metadata": {
    "colab": {
     "base_uri": "https://localhost:8080/",
     "height": 1000
    },
    "id": "tx1h6ugHLVxG",
    "outputId": "61995852-9a5c-4b68-dcc4-96bd508f1cf6"
   },
   "outputs": [],
   "source": [
    "sarimax.plot_diagnostics(figsize=(15, 12))"
   ]
  },
  {
   "cell_type": "markdown",
   "id": "RyYabx3eL5nY",
   "metadata": {
    "id": "RyYabx3eL5nY"
   },
   "source": [
    "# SARIMAX-model with all Exogenous data"
   ]
  },
  {
   "cell_type": "code",
   "execution_count": null,
   "id": "XFG_fnqdL62P",
   "metadata": {
    "colab": {
     "base_uri": "https://localhost:8080/",
     "height": 623
    },
    "id": "XFG_fnqdL62P",
    "outputId": "b1513e81-0f71-4d7b-e235-956cad152180"
   },
   "outputs": [],
   "source": [
    "sarimax = sm.tsa.statespace.SARIMAX(train.y,order=(1,1,1),trend='c',seasonal_order=(1,1,1,12),\n",
    "                                 enforce_stationarity=False, enforce_invertibility=False,exog=train[['air_temperature', 'wind_direction', 'wind_speed', 'msl_pressure', 'rltv_hum', 'stn_pres']]).fit()\n",
    "sarimax.summary()\n"
   ]
  },
  {
   "cell_type": "code",
   "execution_count": null,
   "id": "B-FuQ2b-MheG",
   "metadata": {
    "colab": {
     "base_uri": "https://localhost:8080/",
     "height": 317
    },
    "id": "B-FuQ2b-MheG",
    "outputId": "13ba2ec8-b882-434f-8cd0-b124c4971839"
   },
   "outputs": [],
   "source": [
    "\n",
    "\n",
    "pred = sarimax.predict(tr_end,te_end,exog=test[['air_temperature', 'wind_direction', 'wind_speed', 'msl_pressure', 'rltv_hum', 'stn_pres']])[1:]\n",
    "print('SARIMA model MSE:{}'.format(mean_squared_error(test.y,pred)))\n",
    "\n",
    "pd.DataFrame({'test':test.y.values.flatten(),'pred':pred}).plot();plt.show()\n",
    "\n"
   ]
  },
  {
   "cell_type": "code",
   "execution_count": null,
   "id": "ai0Jd_bHM-O-",
   "metadata": {
    "colab": {
     "base_uri": "https://localhost:8080/",
     "height": 601
    },
    "id": "ai0Jd_bHM-O-",
    "outputId": "2c7e97e8-e800-435d-e4d8-c8f3821a3d8f"
   },
   "outputs": [],
   "source": [
    "## Removing non significant terms\n",
    "sarimax = sm.tsa.statespace.SARIMAX(train.y,order=(1,1,1),trend='c',seasonal_order=(1,1,1,12),\n",
    "                                 enforce_stationarity=False, enforce_invertibility=False,exog=train[['air_temperature', 'wind_direction', 'wind_speed', 'msl_pressure', 'stn_pres']]).fit()\n",
    "sarimax.summary()\n"
   ]
  },
  {
   "cell_type": "code",
   "execution_count": null,
   "id": "rbfDRlEvNKaa",
   "metadata": {
    "colab": {
     "base_uri": "https://localhost:8080/",
     "height": 317
    },
    "id": "rbfDRlEvNKaa",
    "outputId": "542bdcfa-069e-41a4-d8f9-65b2a228242d"
   },
   "outputs": [],
   "source": [
    "\n",
    "pred = sarimax.predict(tr_end,te_end,exog=test[['air_temperature', 'wind_direction', 'wind_speed', 'msl_pressure', 'stn_pres']])[1:]\n",
    "print('SARIMA model MSE:{}'.format(mean_squared_error(test.y,pred)))\n",
    "\n",
    "pd.DataFrame({'test':test.y.values.flatten(),'pred':pred}).plot();plt.show()\n"
   ]
  },
  {
   "cell_type": "code",
   "execution_count": null,
   "id": "AFbc_DCSNTN-",
   "metadata": {
    "colab": {
     "base_uri": "https://localhost:8080/",
     "height": 559
    },
    "id": "AFbc_DCSNTN-",
    "outputId": "49c34ebc-551f-4194-de65-9671bdfbfb63"
   },
   "outputs": [],
   "source": [
    "## Removing non significant terms\n",
    "sarimax = sm.tsa.statespace.SARIMAX(train.y,order=(1,1,1),trend='c',seasonal_order=(1,1,1,12),\n",
    "                                 enforce_stationarity=False, enforce_invertibility=False,exog=train[['air_temperature', 'wind_direction', 'wind_speed']]).fit()\n",
    "sarimax.summary()\n"
   ]
  },
  {
   "cell_type": "code",
   "execution_count": null,
   "id": "SWEvCKRdNY9u",
   "metadata": {
    "colab": {
     "base_uri": "https://localhost:8080/",
     "height": 317
    },
    "id": "SWEvCKRdNY9u",
    "outputId": "d61b50da-1f2e-4164-b314-47ef4813574c"
   },
   "outputs": [],
   "source": [
    "pred = sarimax.predict(tr_end,te_end,exog=test[['air_temperature', 'wind_direction', 'wind_speed']])[1:]\n",
    "print('SARIMA model MSE:{}'.format(mean_squared_error(test.y,pred)))\n",
    "\n",
    "pd.DataFrame({'test':test.y.values.flatten(),'pred':pred}).plot();plt.show()\n"
   ]
  },
  {
   "cell_type": "code",
   "execution_count": null,
   "id": "ruVWe0pANehw",
   "metadata": {
    "colab": {
     "base_uri": "https://localhost:8080/",
     "height": 516
    },
    "id": "ruVWe0pANehw",
    "outputId": "c5a6d814-1b39-4df3-eda6-fc4f541dd535"
   },
   "outputs": [],
   "source": [
    "## Removing ma term\n",
    "sarimax = sm.tsa.statespace.SARIMAX(train.y,order=(1,1,0),trend='c',seasonal_order=(1,1,0,12),\n",
    "                                 enforce_stationarity=False, enforce_invertibility=False,exog=train[['air_temperature', 'wind_direction', 'wind_speed']]).fit()\n",
    "sarimax.summary()"
   ]
  },
  {
   "cell_type": "code",
   "execution_count": null,
   "id": "jR7FeTyyNi3z",
   "metadata": {
    "colab": {
     "base_uri": "https://localhost:8080/",
     "height": 317
    },
    "id": "jR7FeTyyNi3z",
    "outputId": "77f937fd-e95c-4d26-fd7d-6eb23ace373e"
   },
   "outputs": [],
   "source": [
    "pred = sarimax.predict(tr_end,te_end,exog=test[['air_temperature', 'wind_direction', 'wind_speed']])[1:]\n",
    "print('SARIMA model MSE:{}'.format(mean_squared_error(test.y,pred)))\n",
    "\n",
    "pd.DataFrame({'test':test.y.values.flatten(),'pred':pred}).plot();plt.show()"
   ]
  },
  {
   "cell_type": "code",
   "execution_count": null,
   "id": "aqCwf7WNNlo5",
   "metadata": {
    "colab": {
     "base_uri": "https://localhost:8080/",
     "height": 473
    },
    "id": "aqCwf7WNNlo5",
    "outputId": "a48b3215-a580-4637-ded9-203b6c5df24b"
   },
   "outputs": [],
   "source": [
    "## Removing ma term\n",
    "sarimax = sm.tsa.statespace.SARIMAX(train.y,order=(1,1,0),trend='c',seasonal_order=(1,1,0,12),\n",
    "                                 enforce_stationarity=False, enforce_invertibility=False,exog=train[[ 'wind_speed']]).fit()\n",
    "sarimax.summary()"
   ]
  },
  {
   "cell_type": "code",
   "execution_count": null,
   "id": "lnqxiKs-Nu_1",
   "metadata": {
    "colab": {
     "base_uri": "https://localhost:8080/",
     "height": 317
    },
    "id": "lnqxiKs-Nu_1",
    "outputId": "0fd25ec7-d799-41c6-f9dc-e7f0e88936d7"
   },
   "outputs": [],
   "source": [
    "pred = sarimax.predict(tr_end,te_end,exog=test[['wind_speed']])[1:]\n",
    "print('SARIMA model MSE:{}'.format(mean_squared_error(test.y,pred)))\n",
    "\n",
    "pd.DataFrame({'test':test.y.values.flatten(),'pred':pred}).plot();plt.show()"
   ]
  },
  {
   "cell_type": "code",
   "execution_count": null,
   "id": "gbNNWcqZNyZc",
   "metadata": {
    "colab": {
     "base_uri": "https://localhost:8080/",
     "height": 508
    },
    "id": "gbNNWcqZNyZc",
    "outputId": "396925f7-b8b2-419c-b3b5-b6bccca70906"
   },
   "outputs": [],
   "source": [
    "from statsmodels.tsa.seasonal import seasonal_decompose\n",
    "res = seasonal_decompose(train.y, model = \"additive\")\n",
    "\n",
    "fig, (ax1,ax2,ax3) = plt.subplots(3,1, figsize=(15,8))\n",
    "res.trend.plot(ax=ax1,ylabel = \"trend\")\n",
    "res.resid.plot(ax=ax2,ylabel = \"residual\")\n",
    "res.seasonal.plot(ax=ax3,ylabel = \"seasonality\")\n",
    "plt.show()"
   ]
  },
  {
   "cell_type": "code",
   "execution_count": null,
   "id": "YHhDNDDwOwus",
   "metadata": {
    "colab": {
     "base_uri": "https://localhost:8080/",
     "height": 607
    },
    "id": "YHhDNDDwOwus",
    "outputId": "70958841-99f7-48d5-c3dc-8b1d7c5d7231"
   },
   "outputs": [],
   "source": [
    "\n",
    "fig,ax = plt.subplots(2,1,figsize=(20,10))\n",
    "fig = sm.graphics.tsa.plot_acf(train.y.diff().dropna(), lags=50, ax=ax[0])\n",
    "fig = sm.graphics.tsa.plot_pacf(train.y.diff().dropna(), lags=50, ax=ax[1])\n",
    "plt.show()\n",
    "\n"
   ]
  },
  {
   "cell_type": "markdown",
   "id": "r8HqjP6vQOup",
   "metadata": {
    "id": "r8HqjP6vQOup"
   },
   "source": [
    "# Final Predictions"
   ]
  },
  {
   "cell_type": "code",
   "execution_count": null,
   "id": "cdICSCr_P3bx",
   "metadata": {
    "colab": {
     "base_uri": "https://localhost:8080/",
     "height": 494
    },
    "id": "cdICSCr_P3bx",
    "outputId": "3c64ef51-c8ed-4cec-fa7f-e52d5bf0f074"
   },
   "outputs": [],
   "source": [
    "\n",
    "\n",
    "mod = sm.tsa.statespace.SARIMAX(train.y, order=(5,1,3),trend='c', seasonal_order=(5,1,3,12),\n",
    "                                 enforce_stationarity=False, enforce_invertibility=False)\n",
    "res = mod.fit()\n",
    "res.summary()\n",
    "\n"
   ]
  },
  {
   "cell_type": "code",
   "execution_count": null,
   "id": "Jk2zFp68QQON",
   "metadata": {
    "id": "Jk2zFp68QQON"
   },
   "outputs": [],
   "source": [
    "\n",
    "\n",
    "prediction1 = res.get_forecast(steps=214)\n",
    "\n"
   ]
  },
  {
   "cell_type": "code",
   "execution_count": null,
   "id": "cPxGgQ_-RQmm",
   "metadata": {
    "colab": {
     "base_uri": "https://localhost:8080/"
    },
    "id": "cPxGgQ_-RQmm",
    "outputId": "f3d41b3c-7394-4b79-8930-0bab0ba00211"
   },
   "outputs": [],
   "source": [
    "\n",
    "\n",
    "prediction1.predicted_mean.tail()\n",
    "\n"
   ]
  },
  {
   "cell_type": "code",
   "execution_count": null,
   "id": "YMhc81abRSyc",
   "metadata": {
    "id": "YMhc81abRSyc"
   },
   "outputs": [],
   "source": [
    "\n",
    "\n",
    "pred_ci1 = prediction1.conf_int()\n",
    "\n"
   ]
  },
  {
   "cell_type": "code",
   "execution_count": null,
   "id": "f3db7909",
   "metadata": {},
   "outputs": [],
   "source": [
    "ax = train.y.plot(label='observed', figsize=(20, 15))\n",
    "prediction1.predicted_mean.plot(ax=ax, label='forecast')\n",
    "ax.fill_between(pred_ci1.index,\n",
    "                pred_ci1.iloc[:, 0],\n",
    "                pred_ci1.iloc[:, 1], color='k', alpha=.25)\n",
    "ax.set_title('PM2.5 Forecast')\n",
    "ax.set_xlabel('Date')\n",
    "ax.set_ylabel('PM2.5')\n",
    "\n",
    "plt.legend()\n",
    "plt.show()"
   ]
  },
  {
   "cell_type": "code",
   "execution_count": null,
   "id": "NUbsAczSRVqJ",
   "metadata": {
    "colab": {
     "base_uri": "https://localhost:8080/",
     "height": 905
    },
    "id": "NUbsAczSRVqJ",
    "outputId": "d916c2cd-e577-4343-a46c-0c9f8e028c5f"
   },
   "outputs": [],
   "source": [
    "ax = train.y.plot(label='observed', figsize=(20, 15))\n",
    "prediction1.predicted_mean.plot(ax=ax, label='forecast')\n",
    "ax.fill_between(pred_ci1.index,\n",
    "                pred_ci1.iloc[:, 0],\n",
    "                pred_ci1.iloc[:, 1], color='k', alpha=.25)\n",
    "ax.set_title('PM2.5 Forecast')\n",
    "ax.set_xlabel('Date')\n",
    "ax.set_ylabel('PM2.5')\n",
    "\n",
    "plt.legend()\n",
    "plt.show()"
   ]
  },
  {
   "cell_type": "code",
   "execution_count": null,
   "id": "UyPd9R97RaK1",
   "metadata": {
    "id": "UyPd9R97RaK1"
   },
   "outputs": [],
   "source": []
  },
  {
   "cell_type": "markdown",
   "id": "Or5s_LebSOHW",
   "metadata": {
    "id": "Or5s_LebSOHW"
   },
   "source": [
    "# SARIMAX-prediction with air temp as exog"
   ]
  },
  {
   "cell_type": "code",
   "execution_count": null,
   "id": "w2H1iRHCSPxm",
   "metadata": {
    "colab": {
     "base_uri": "https://localhost:8080/",
     "height": 516
    },
    "id": "w2H1iRHCSPxm",
    "outputId": "ca42f177-4be0-49b8-967e-70cff362d2c9"
   },
   "outputs": [],
   "source": [
    "\n",
    "\n",
    "\n",
    "mod = sm.tsa.statespace.SARIMAX(train.y,order=(5,1,3),trend='c', seasonal_order=(5,1,3,12),\n",
    "                                 enforce_stationarity=False, enforce_invertibility=False,exog=train.air_temperature.values)\n",
    "res = mod.fit()\n",
    "res.summary()\n",
    "\n"
   ]
  },
  {
   "cell_type": "code",
   "execution_count": null,
   "id": "76VNJSFbTlwP",
   "metadata": {
    "id": "76VNJSFbTlwP"
   },
   "outputs": [],
   "source": [
    "\n",
    "prediction2 = res.get_forecast(steps=214, exog=exog.air_temperature)"
   ]
  },
  {
   "cell_type": "code",
   "execution_count": null,
   "id": "_9UNxQsjUKea",
   "metadata": {
    "colab": {
     "base_uri": "https://localhost:8080/"
    },
    "id": "_9UNxQsjUKea",
    "outputId": "1a682ec4-56dd-4931-a67a-09cba4c3b726"
   },
   "outputs": [],
   "source": [
    "\n",
    "\n",
    "prediction2.predicted_mean.head()\n",
    "\n"
   ]
  },
  {
   "cell_type": "code",
   "execution_count": null,
   "id": "pGG5b3ZIU2Bk",
   "metadata": {
    "id": "pGG5b3ZIU2Bk"
   },
   "outputs": [],
   "source": [
    "\n",
    "\n",
    "pred_ci2 = prediction2.conf_int()\n",
    "\n"
   ]
  },
  {
   "cell_type": "code",
   "execution_count": null,
   "id": "xrSlX2QbW55z",
   "metadata": {
    "colab": {
     "base_uri": "https://localhost:8080/",
     "height": 905
    },
    "id": "xrSlX2QbW55z",
    "outputId": "c3c9f52f-e6cf-4588-cf43-faa93259e645"
   },
   "outputs": [],
   "source": [
    "\n",
    "\n",
    "ax = train.y.plot(label='observed', figsize=(20, 15))\n",
    "prediction2.predicted_mean.plot(ax=ax, label='forecast')\n",
    "test.y.plot(ax=ax, label = 'test')\n",
    "ax.fill_between(pred_ci2.index,\n",
    "                pred_ci2.iloc[:, 0],\n",
    "                pred_ci2.iloc[:, 1], color='k', alpha=.25)\n",
    "ax.set_title('PM2.5 Forecast')\n",
    "ax.set_xlabel('Date')\n",
    "ax.set_ylabel('PM2.5')\n",
    "\n",
    "plt.legend()\n",
    "plt.show()\n",
    "\n"
   ]
  },
  {
   "cell_type": "code",
   "execution_count": null,
   "id": "CNUuuMVCW97T",
   "metadata": {
    "id": "CNUuuMVCW97T"
   },
   "outputs": [],
   "source": []
  },
  {
   "cell_type": "markdown",
   "id": "c3LvIM9lXq9M",
   "metadata": {
    "id": "c3LvIM9lXq9M"
   },
   "source": [
    "# SARIMAX-prediction with all exogenous variable"
   ]
  },
  {
   "cell_type": "code",
   "execution_count": null,
   "id": "odNzhwEQXsef",
   "metadata": {
    "colab": {
     "base_uri": "https://localhost:8080/",
     "height": 537
    },
    "id": "odNzhwEQXsef",
    "outputId": "64316fa5-b4c5-4066-d760-e7333227d5b2"
   },
   "outputs": [],
   "source": [
    "\n",
    "mod = sm.tsa.statespace.SARIMAX(train.y,order=(5,1,3),trend='c', seasonal_order=(5,1,3,12),\n",
    "                                 enforce_stationarity=False, enforce_invertibility=False,exog=train[['air_temperature', 'wind_speed']])\n",
    "res = mod.fit()\n",
    "res.summary()\n"
   ]
  },
  {
   "cell_type": "code",
   "execution_count": null,
   "id": "rX81LllvX1EH",
   "metadata": {
    "colab": {
     "base_uri": "https://localhost:8080/"
    },
    "id": "rX81LllvX1EH",
    "outputId": "de3fa138-3cb9-497f-9886-5728a6ec73cd"
   },
   "outputs": [],
   "source": [
    "prediction3 = res.get_forecast(steps=214, exog=exog[['air_temperature', 'wind_speed']].values)\n",
    "pred_ci3 = prediction3.conf_int()\n",
    "prediction3.predicted_mean.tail()"
   ]
  },
  {
   "cell_type": "code",
   "execution_count": null,
   "id": "azhtqdhEYhVb",
   "metadata": {
    "colab": {
     "base_uri": "https://localhost:8080/",
     "height": 905
    },
    "id": "azhtqdhEYhVb",
    "outputId": "8c7dfe25-4945-490e-bbee-b78cf7c89baa"
   },
   "outputs": [],
   "source": [
    "\n",
    "\n",
    "ax = train.y.plot(label='observed', figsize=(20, 15))\n",
    "prediction3.predicted_mean.plot(ax=ax, label='forecast')\n",
    "test.y.plot(ax=ax, label = 'test')\n",
    "ax.fill_between(pred_ci3.index,\n",
    "                pred_ci3.iloc[:, 0],\n",
    "                pred_ci3.iloc[:, 1], color='k', alpha=.25)\n",
    "ax.set_title('PM2.5 Forecast')\n",
    "ax.set_xlabel('Date')\n",
    "ax.set_ylabel('PM2.5')\n",
    "\n",
    "plt.legend()\n",
    "plt.show()\n",
    "\n"
   ]
  },
  {
   "cell_type": "code",
   "execution_count": null,
   "id": "PTXtztupYqs2",
   "metadata": {
    "colab": {
     "base_uri": "https://localhost:8080/",
     "height": 905
    },
    "id": "PTXtztupYqs2",
    "outputId": "aea4a290-b232-4c3f-9476-84b0ac1e21f9"
   },
   "outputs": [],
   "source": [
    "\n",
    "\n",
    "ax = train.y.plot(label='observed', figsize=(20, 15))\n",
    "prediction1.predicted_mean.plot(ax=ax, label='PM2.5 only')\n",
    "prediction2.predicted_mean.plot(ax=ax, label='PM2.5 with air temperature exogenous variable')\n",
    "prediction3.predicted_mean.plot(ax=ax, label='PM2.5 with air temperature, wind direction, and wind speed as exogogenous variables')\n",
    "\n",
    "ax.fill_between(pred_ci1.index,\n",
    "                pred_ci1.iloc[:, 0],\n",
    "                pred_ci1.iloc[:, 1], color='k', alpha=0.1)\n",
    "\n",
    "ax.fill_between(pred_ci2.index,\n",
    "                pred_ci2.iloc[:, 0],\n",
    "                pred_ci2.iloc[:, 1], color='k', alpha=0.05)\n",
    "\n",
    "ax.fill_between(pred_ci3.index,\n",
    "                pred_ci3.iloc[:, 0],\n",
    "                pred_ci3.iloc[:, 1], color='k', alpha=0.2)\n",
    "\n",
    "\n",
    "ax.set_title('PM2.5 Forecast')\n",
    "ax.set_xlabel('Date')\n",
    "ax.set_ylabel('PM2.5')\n",
    "\n",
    "plt.legend()\n",
    "plt.show()\n",
    "\n"
   ]
  },
  {
   "cell_type": "markdown",
   "id": "7b8c8f23",
   "metadata": {
    "id": "i0ORonSHY5S3"
   },
   "source": [
    "## Testing DON'T RUN"
   ]
  },
  {
   "cell_type": "code",
   "execution_count": null,
   "id": "59aabee2",
   "metadata": {},
   "outputs": [],
   "source": [
    "\n",
    "mod = sm.tsa.statespace.SARIMAX(train.y,order=(5,1,3),trend='c', seasonal_order=(5,1,3,36),\n",
    "                                 enforce_stationarity=False, enforce_invertibility=False,exog=train[['air_temperature', 'wind_speed']])\n",
    "res = mod.fit()\n",
    "res.summary()"
   ]
  },
  {
   "cell_type": "code",
   "execution_count": null,
   "id": "a33fec6e",
   "metadata": {},
   "outputs": [],
   "source": [
    "prediction3 = res.get_forecast(steps=214, exog=exog[['air_temperature', 'wind_speed']].values)\n",
    "pred_ci3 = prediction3.conf_int()\n",
    "prediction3.predicted_mean.tail()"
   ]
  },
  {
   "cell_type": "code",
   "execution_count": null,
   "id": "7583271a",
   "metadata": {},
   "outputs": [],
   "source": [
    "ax = train.y.plot(label='observed', figsize=(20, 15))\n",
    "prediction3.predicted_mean.plot(ax=ax, label='forecast')\n",
    "test.y.plot(ax=ax, label = 'test')\n",
    "ax.fill_between(pred_ci3.index,\n",
    "                pred_ci3.iloc[:, 0],\n",
    "                pred_ci3.iloc[:, 1], color='k', alpha=.25)\n",
    "ax.set_title('PM2.5 Forecast')\n",
    "ax.set_xlabel('Date')\n",
    "ax.set_ylabel('PM2.5')\n",
    "\n",
    "plt.legend()\n",
    "plt.show()\n",
    "\n"
   ]
  },
  {
   "cell_type": "code",
   "execution_count": null,
   "id": "645df531",
   "metadata": {},
   "outputs": [],
   "source": [
    "import numpy as np\n",
    "import pandas as pd\n",
    "import matplotlib.pyplot as plt\n",
    "import seaborn as sns\n",
    "import warnings\n",
    "import math\n",
    "from scipy.stats import variation\n",
    "from pylab import rcParams\n",
    "import statsmodels.api as sm\n",
    "import os\n",
    "from statsmodels.tsa.arima.model import ARIMA\n",
    "from sklearn.metrics import mean_squared_error\n",
    "%matplotlib inline\n",
    "warnings.filterwarnings('ignore')\n",
    "sns.set_style('darkgrid')\n",
    "\n",
    "print(os.getcwd())\n",
    "\n",
    "#df = pd.read_csv(\"/content/df_analysis.csv\")\n",
    "df = pd.read_csv(\"../data/cleanData/df_analysis.csv\")"
   ]
  },
  {
   "cell_type": "code",
   "execution_count": null,
   "id": "5b66adc4",
   "metadata": {},
   "outputs": [],
   "source": [
    "df_sd = df.copy()\n",
    "df_sd['ds'] = pd.to_datetime(df_sd['ds'])\n",
    "df_sd = df_sd.set_index('ds')\n",
    "df_sd = df_sd.resample('D').mean()\n",
    "df_sd = df_sd.fillna(0)"
   ]
  },
  {
   "cell_type": "code",
   "execution_count": null,
   "id": "d7c5429b",
   "metadata": {},
   "outputs": [],
   "source": [
    "df_dict = {'mean': 'df_mean', 'sum': 'df_sum'}\n",
    "for i in df_dict:\n",
    "    print(i)\n",
    "    \n",
    "df_dict.keys()"
   ]
  },
  {
   "cell_type": "code",
   "execution_count": null,
   "id": "f32156c5",
   "metadata": {},
   "outputs": [],
   "source": [
    "import pandas as pd\n",
    "from functools import reduce\n",
    "df = pd.DataFrame({'Date': [1,2,3,4], 'Value': [2,3,3,4]})\n",
    "df_dict = {'df_1':df, 'df_2': df, 'df_3': df}\n",
    "dfList\n",
    "df_dict.keys()\n",
    "#reduce(lambda df_dict.keys(): pd.merge(df_dict.keys(), on = 'Date'), df_dict.values())"
   ]
  },
  {
   "cell_type": "code",
   "execution_count": null,
   "id": "1b178c29",
   "metadata": {},
   "outputs": [],
   "source": [
    "df2 = df.copy()\n",
    "df2['ds'] = pd.to_datetime(df2['ds'])\n",
    "df2 = df2.set_index('ds')\n",
    "df2 = df2.resample('D').max()\n",
    "df2 = df2.fillna(0)\n"
   ]
  },
  {
   "cell_type": "code",
   "execution_count": null,
   "id": "4d89e6c4",
   "metadata": {},
   "outputs": [],
   "source": [
    "fig = plt.figure(figsize = (15,8))\n",
    "plt.plot(df_sd.y.rolling(7, axis = 0).mean())"
   ]
  },
  {
   "cell_type": "code",
   "execution_count": null,
   "id": "565299d6",
   "metadata": {},
   "outputs": [],
   "source": [
    "fig = plt.figure(figsize = (15,8))\n",
    "plt.plot(df_sd.y)"
   ]
  },
  {
   "cell_type": "code",
   "execution_count": null,
   "id": "108e51dc",
   "metadata": {},
   "outputs": [],
   "source": [
    "fig = plt.figure(figsize = (15,8))\n",
    "plt.plot(df2[df2.y < 150].y)"
   ]
  },
  {
   "cell_type": "code",
   "execution_count": null,
   "id": "567eba13",
   "metadata": {},
   "outputs": [],
   "source": []
  }
 ],
 "metadata": {
  "colab": {
   "collapsed_sections": [
    "3e6620f2",
    "b30e6082",
    "0bb1f3d7",
    "06a3fbfc",
    "72c64f05",
    "4eef76c1",
    "edb2e504",
    "6554c51e",
    "708cab1f",
    "642575b9",
    "bc2ea044",
    "8e1f059f"
   ],
   "name": "THIS ONE  For_reportV2.ipynb",
   "provenance": []
  },
  "kernelspec": {
   "display_name": "Python 3 (ipykernel)",
   "language": "python",
   "name": "python3"
  },
  "language_info": {
   "codemirror_mode": {
    "name": "ipython",
    "version": 3
   },
   "file_extension": ".py",
   "mimetype": "text/x-python",
   "name": "python",
   "nbconvert_exporter": "python",
   "pygments_lexer": "ipython3",
   "version": "3.9.12"
  }
 },
 "nbformat": 4,
 "nbformat_minor": 5
}
